{
 "cells": [
  {
   "cell_type": "markdown",
   "metadata": {
    "application/vnd.databricks.v1+cell": {
     "cellMetadata": {
      "byteLimit": 2048000,
      "rowLimit": 10000
     },
     "inputWidgets": {},
     "nuid": "7ce80805-6f99-49cc-bc57-cfae376d6dfb",
     "showTitle": false,
     "tableResultSettingsMap": {},
     "title": ""
    }
   },
   "source": [
    "# Spark SQL Sales Performance Analysis\n",
    "\n",
    "\n"
   ]
  },
  {
   "cell_type": "markdown",
   "metadata": {
    "application/vnd.databricks.v1+cell": {
     "cellMetadata": {},
     "inputWidgets": {},
     "nuid": "ae03708d-20aa-4f74-b7d2-6efb091fd9d6",
     "showTitle": false,
     "tableResultSettingsMap": {},
     "title": ""
    }
   },
   "source": [
    "This script contains a set of Spark SQL queries focused on analyzing sales performance over time within a Databricks environment. The queries leverage Spark's distributed computing to explore temporal trends, product performance, customer segmentation, and category contributions, providing actionable insights into business operations.\n",
    "Features\n",
    "\n",
    "### Temporal Sales Analysis:\n",
    "\n",
    "Aggregate sales, customer counts, and quantities by year and month using EXTRACT, DATE_TRUNC, and TO_CHAR for flexible date formatting.\n",
    "Calculate running totals and moving averages for yearly sales and prices.\n",
    "\n",
    "\n",
    "### Product Performance:\n",
    "\n",
    "Analyze yearly product sales, comparing current sales to historical averages and year-over-year performance using window functions (AVG, LAG).\n",
    "Segment products into cost ranges (e.g., Below 100, 100-500) to understand cost distribution.\n",
    "\n",
    "\n",
    "### Customer Segmentation:\n",
    "\n",
    "Categorize customers into VIP, Regular, and New segments based on spending behavior (€5,000 threshold) and lifespan (12+ months).\n",
    "Count customers in each segment to assess customer base composition.\n",
    "\n",
    "\n",
    "### Category Contribution:\n",
    "\n",
    "Identify top-performing product categories by total sales and their percentage contribution to overall sales.\n",
    "\n",
    "\n",
    "### Database Schema\n",
    "The queries assume a Delta Lake with the following key tables in the gold schema, optimized for Spark SQL:\n",
    "\n",
    "dim_customers: Contains customer information (e.g., customer_key).\n",
    "dim_products: Contains product details (e.g., product_key, product_name, category, cost).\n",
    "fact_sales: Contains sales transactions (e.g., order_date, customer_key, product_key, sales_amount, quantity, price).\n",
    "\n",
    "### Key Queries\n",
    "\n",
    "Sales Over Time: Aggregate sales, customers, and quantities by year/month using Spark SQL date functions.\n",
    "Running Totals and Averages: Calculate cumulative sales and moving average prices per year with window functions.\n",
    "Yearly Product Performance: Compare product sales to historical averages and previous year's sales.\n",
    "Product Cost Segmentation: Group products by cost ranges and count products in each range.\n",
    "Customer Segmentation: Classify customers into VIP, Regular, and New based on spending and lifespan.\n",
    "Category Sales Contribution: Rank categories by sales and calculate their percentage of total sales."
   ]
  },
  {
   "cell_type": "code",
   "execution_count": 0,
   "metadata": {
    "application/vnd.databricks.v1+cell": {
     "cellMetadata": {
      "byteLimit": 2048000,
      "implicitDf": true,
      "rowLimit": 10000
     },
     "inputWidgets": {},
     "nuid": "7e7c172f-c0a2-4ce5-9cf8-550254b9ea1c",
     "showTitle": false,
     "tableResultSettingsMap": {},
     "title": ""
    }
   },
   "outputs": [
    {
     "output_type": "display_data",
     "data": {
      "text/html": [
       "<style scoped>\n",
       "  .table-result-container {\n",
       "    max-height: 300px;\n",
       "    overflow: auto;\n",
       "  }\n",
       "  table, th, td {\n",
       "    border: 1px solid black;\n",
       "    border-collapse: collapse;\n",
       "  }\n",
       "  th, td {\n",
       "    padding: 5px;\n",
       "  }\n",
       "  th {\n",
       "    text-align: left;\n",
       "  }\n",
       "</style><div class='table-result-container'><table class='table-result'><thead style='background-color: white'><tr><th>order_year</th><th>order_month</th><th>total_sales</th><th>total_customers</th><th>total_quantity</th></tr></thead><tbody><tr><td>2010</td><td>12</td><td>43419</td><td>14</td><td>14</td></tr><tr><td>2011</td><td>1</td><td>469795</td><td>144</td><td>144</td></tr><tr><td>2011</td><td>2</td><td>466307</td><td>144</td><td>144</td></tr><tr><td>2011</td><td>3</td><td>485165</td><td>150</td><td>150</td></tr><tr><td>2011</td><td>4</td><td>502042</td><td>157</td><td>157</td></tr><tr><td>2011</td><td>5</td><td>561647</td><td>174</td><td>174</td></tr><tr><td>2011</td><td>6</td><td>737793</td><td>230</td><td>230</td></tr><tr><td>2011</td><td>7</td><td>596710</td><td>188</td><td>188</td></tr><tr><td>2011</td><td>8</td><td>614516</td><td>193</td><td>193</td></tr><tr><td>2011</td><td>9</td><td>603047</td><td>185</td><td>185</td></tr><tr><td>2011</td><td>10</td><td>708164</td><td>221</td><td>221</td></tr><tr><td>2011</td><td>11</td><td>660507</td><td>208</td><td>208</td></tr><tr><td>2011</td><td>12</td><td>669395</td><td>222</td><td>222</td></tr><tr><td>2012</td><td>1</td><td>495363</td><td>252</td><td>252</td></tr><tr><td>2012</td><td>2</td><td>506992</td><td>260</td><td>260</td></tr><tr><td>2012</td><td>3</td><td>373478</td><td>212</td><td>212</td></tr><tr><td>2012</td><td>4</td><td>400324</td><td>219</td><td>219</td></tr><tr><td>2012</td><td>5</td><td>358866</td><td>207</td><td>207</td></tr><tr><td>2012</td><td>6</td><td>555142</td><td>318</td><td>318</td></tr><tr><td>2012</td><td>7</td><td>444533</td><td>246</td><td>246</td></tr><tr><td>2012</td><td>8</td><td>523887</td><td>294</td><td>294</td></tr><tr><td>2012</td><td>9</td><td>486149</td><td>269</td><td>269</td></tr><tr><td>2012</td><td>10</td><td>535125</td><td>313</td><td>313</td></tr><tr><td>2012</td><td>11</td><td>537918</td><td>324</td><td>324</td></tr><tr><td>2012</td><td>12</td><td>624454</td><td>354</td><td>483</td></tr><tr><td>2013</td><td>1</td><td>857758</td><td>627</td><td>1677</td></tr><tr><td>2013</td><td>2</td><td>771218</td><td>1373</td><td>3454</td></tr><tr><td>2013</td><td>3</td><td>1049732</td><td>1631</td><td>4087</td></tr><tr><td>2013</td><td>4</td><td>1045860</td><td>1564</td><td>3979</td></tr><tr><td>2013</td><td>5</td><td>1284456</td><td>1719</td><td>4400</td></tr><tr><td>2013</td><td>6</td><td>1642948</td><td>1948</td><td>5025</td></tr><tr><td>2013</td><td>7</td><td>1371595</td><td>1796</td><td>4673</td></tr><tr><td>2013</td><td>8</td><td>1545910</td><td>1898</td><td>4848</td></tr><tr><td>2013</td><td>9</td><td>1447324</td><td>1832</td><td>4616</td></tr><tr><td>2013</td><td>10</td><td>1673261</td><td>2073</td><td>5304</td></tr><tr><td>2013</td><td>11</td><td>1780688</td><td>2036</td><td>5224</td></tr><tr><td>2013</td><td>12</td><td>1874128</td><td>2133</td><td>5520</td></tr><tr><td>2014</td><td>1</td><td>45642</td><td>834</td><td>1970</td></tr></tbody></table></div>"
      ]
     },
     "metadata": {
      "application/vnd.databricks.v1+output": {
       "addedWidgets": {},
       "aggData": [],
       "aggError": "",
       "aggOverflow": false,
       "aggSchema": [],
       "aggSeriesLimitReached": false,
       "aggType": "",
       "arguments": {},
       "columnCustomDisplayInfos": {},
       "data": [
        [
         2010,
         12,
         43419,
         14,
         14
        ],
        [
         2011,
         1,
         469795,
         144,
         144
        ],
        [
         2011,
         2,
         466307,
         144,
         144
        ],
        [
         2011,
         3,
         485165,
         150,
         150
        ],
        [
         2011,
         4,
         502042,
         157,
         157
        ],
        [
         2011,
         5,
         561647,
         174,
         174
        ],
        [
         2011,
         6,
         737793,
         230,
         230
        ],
        [
         2011,
         7,
         596710,
         188,
         188
        ],
        [
         2011,
         8,
         614516,
         193,
         193
        ],
        [
         2011,
         9,
         603047,
         185,
         185
        ],
        [
         2011,
         10,
         708164,
         221,
         221
        ],
        [
         2011,
         11,
         660507,
         208,
         208
        ],
        [
         2011,
         12,
         669395,
         222,
         222
        ],
        [
         2012,
         1,
         495363,
         252,
         252
        ],
        [
         2012,
         2,
         506992,
         260,
         260
        ],
        [
         2012,
         3,
         373478,
         212,
         212
        ],
        [
         2012,
         4,
         400324,
         219,
         219
        ],
        [
         2012,
         5,
         358866,
         207,
         207
        ],
        [
         2012,
         6,
         555142,
         318,
         318
        ],
        [
         2012,
         7,
         444533,
         246,
         246
        ],
        [
         2012,
         8,
         523887,
         294,
         294
        ],
        [
         2012,
         9,
         486149,
         269,
         269
        ],
        [
         2012,
         10,
         535125,
         313,
         313
        ],
        [
         2012,
         11,
         537918,
         324,
         324
        ],
        [
         2012,
         12,
         624454,
         354,
         483
        ],
        [
         2013,
         1,
         857758,
         627,
         1677
        ],
        [
         2013,
         2,
         771218,
         1373,
         3454
        ],
        [
         2013,
         3,
         1049732,
         1631,
         4087
        ],
        [
         2013,
         4,
         1045860,
         1564,
         3979
        ],
        [
         2013,
         5,
         1284456,
         1719,
         4400
        ],
        [
         2013,
         6,
         1642948,
         1948,
         5025
        ],
        [
         2013,
         7,
         1371595,
         1796,
         4673
        ],
        [
         2013,
         8,
         1545910,
         1898,
         4848
        ],
        [
         2013,
         9,
         1447324,
         1832,
         4616
        ],
        [
         2013,
         10,
         1673261,
         2073,
         5304
        ],
        [
         2013,
         11,
         1780688,
         2036,
         5224
        ],
        [
         2013,
         12,
         1874128,
         2133,
         5520
        ],
        [
         2014,
         1,
         45642,
         834,
         1970
        ]
       ],
       "datasetInfos": [],
       "dbfsResultPath": null,
       "isJsonSchema": true,
       "metadata": {},
       "overflow": false,
       "plotOptions": {
        "customPlotOptions": {},
        "displayType": "table",
        "pivotAggregation": null,
        "pivotColumns": null,
        "xColumns": null,
        "yColumns": null
       },
       "removedWidgets": [],
       "schema": [
        {
         "metadata": "{}",
         "name": "order_year",
         "type": "\"integer\""
        },
        {
         "metadata": "{}",
         "name": "order_month",
         "type": "\"integer\""
        },
        {
         "metadata": "{}",
         "name": "total_sales",
         "type": "\"long\""
        },
        {
         "metadata": "{}",
         "name": "total_customers",
         "type": "\"long\""
        },
        {
         "metadata": "{}",
         "name": "total_quantity",
         "type": "\"long\""
        }
       ],
       "type": "table"
      }
     },
     "output_type": "display_data"
    }
   ],
   "source": [
    "## Analyse sales performance over time\n",
    "\n",
    "df = spark.sql(\"\"\"SELECT\n",
    "    EXTRACT(YEAR FROM order_date) AS order_year,\n",
    "    EXTRACT(MONTH FROM order_date) AS order_month,\n",
    "    SUM(sales_amount) AS total_sales,\n",
    "    COUNT(DISTINCT customer_key) AS total_customers,\n",
    "    SUM(quantity) AS total_quantity\n",
    "FROM dwh_project.gold.fact_sales\n",
    "WHERE order_date IS NOT NULL\n",
    "GROUP BY EXTRACT(YEAR FROM order_date), EXTRACT(MONTH FROM order_date)\n",
    "ORDER BY EXTRACT(YEAR FROM order_date), EXTRACT(MONTH FROM order_date)\"\"\")\n",
    "display(df)\n"
   ]
  },
  {
   "cell_type": "code",
   "execution_count": 0,
   "metadata": {
    "application/vnd.databricks.v1+cell": {
     "cellMetadata": {
      "byteLimit": 2048000,
      "implicitDf": true,
      "rowLimit": 10000
     },
     "inputWidgets": {},
     "nuid": "644e09ac-4778-4e77-a564-995fb0bb56b1",
     "showTitle": false,
     "tableResultSettingsMap": {},
     "title": ""
    }
   },
   "outputs": [
    {
     "output_type": "display_data",
     "data": {
      "text/html": [
       "<style scoped>\n",
       "  .table-result-container {\n",
       "    max-height: 300px;\n",
       "    overflow: auto;\n",
       "  }\n",
       "  table, th, td {\n",
       "    border: 1px solid black;\n",
       "    border-collapse: collapse;\n",
       "  }\n",
       "  th, td {\n",
       "    padding: 5px;\n",
       "  }\n",
       "  th {\n",
       "    text-align: left;\n",
       "  }\n",
       "</style><div class='table-result-container'><table class='table-result'><thead style='background-color: white'><tr><th>order_month</th><th>total_sales</th><th>total_customers</th><th>total_quantity</th></tr></thead><tbody><tr><td>2010-12</td><td>43419</td><td>14</td><td>14</td></tr><tr><td>2011-01</td><td>469795</td><td>144</td><td>144</td></tr><tr><td>2011-02</td><td>466307</td><td>144</td><td>144</td></tr><tr><td>2011-03</td><td>485165</td><td>150</td><td>150</td></tr><tr><td>2011-04</td><td>502042</td><td>157</td><td>157</td></tr><tr><td>2011-05</td><td>561647</td><td>174</td><td>174</td></tr><tr><td>2011-06</td><td>737793</td><td>230</td><td>230</td></tr><tr><td>2011-07</td><td>596710</td><td>188</td><td>188</td></tr><tr><td>2011-08</td><td>614516</td><td>193</td><td>193</td></tr><tr><td>2011-09</td><td>603047</td><td>185</td><td>185</td></tr><tr><td>2011-10</td><td>708164</td><td>221</td><td>221</td></tr><tr><td>2011-11</td><td>660507</td><td>208</td><td>208</td></tr><tr><td>2011-12</td><td>669395</td><td>222</td><td>222</td></tr><tr><td>2012-01</td><td>495363</td><td>252</td><td>252</td></tr><tr><td>2012-02</td><td>506992</td><td>260</td><td>260</td></tr><tr><td>2012-03</td><td>373478</td><td>212</td><td>212</td></tr><tr><td>2012-04</td><td>400324</td><td>219</td><td>219</td></tr><tr><td>2012-05</td><td>358866</td><td>207</td><td>207</td></tr><tr><td>2012-06</td><td>555142</td><td>318</td><td>318</td></tr><tr><td>2012-07</td><td>444533</td><td>246</td><td>246</td></tr><tr><td>2012-08</td><td>523887</td><td>294</td><td>294</td></tr><tr><td>2012-09</td><td>486149</td><td>269</td><td>269</td></tr><tr><td>2012-10</td><td>535125</td><td>313</td><td>313</td></tr><tr><td>2012-11</td><td>537918</td><td>324</td><td>324</td></tr><tr><td>2012-12</td><td>624454</td><td>354</td><td>483</td></tr><tr><td>2013-01</td><td>857758</td><td>627</td><td>1677</td></tr><tr><td>2013-02</td><td>771218</td><td>1373</td><td>3454</td></tr><tr><td>2013-03</td><td>1049732</td><td>1631</td><td>4087</td></tr><tr><td>2013-04</td><td>1045860</td><td>1564</td><td>3979</td></tr><tr><td>2013-05</td><td>1284456</td><td>1719</td><td>4400</td></tr><tr><td>2013-06</td><td>1642948</td><td>1948</td><td>5025</td></tr><tr><td>2013-07</td><td>1371595</td><td>1796</td><td>4673</td></tr><tr><td>2013-08</td><td>1545910</td><td>1898</td><td>4848</td></tr><tr><td>2013-09</td><td>1447324</td><td>1832</td><td>4616</td></tr><tr><td>2013-10</td><td>1673261</td><td>2073</td><td>5304</td></tr><tr><td>2013-11</td><td>1780688</td><td>2036</td><td>5224</td></tr><tr><td>2013-12</td><td>1874128</td><td>2133</td><td>5520</td></tr><tr><td>2014-01</td><td>45642</td><td>834</td><td>1970</td></tr></tbody></table></div>"
      ]
     },
     "metadata": {
      "application/vnd.databricks.v1+output": {
       "addedWidgets": {},
       "aggData": [],
       "aggError": "",
       "aggOverflow": false,
       "aggSchema": [],
       "aggSeriesLimitReached": false,
       "aggType": "",
       "arguments": {},
       "columnCustomDisplayInfos": {},
       "data": [
        [
         "2010-12",
         43419,
         14,
         14
        ],
        [
         "2011-01",
         469795,
         144,
         144
        ],
        [
         "2011-02",
         466307,
         144,
         144
        ],
        [
         "2011-03",
         485165,
         150,
         150
        ],
        [
         "2011-04",
         502042,
         157,
         157
        ],
        [
         "2011-05",
         561647,
         174,
         174
        ],
        [
         "2011-06",
         737793,
         230,
         230
        ],
        [
         "2011-07",
         596710,
         188,
         188
        ],
        [
         "2011-08",
         614516,
         193,
         193
        ],
        [
         "2011-09",
         603047,
         185,
         185
        ],
        [
         "2011-10",
         708164,
         221,
         221
        ],
        [
         "2011-11",
         660507,
         208,
         208
        ],
        [
         "2011-12",
         669395,
         222,
         222
        ],
        [
         "2012-01",
         495363,
         252,
         252
        ],
        [
         "2012-02",
         506992,
         260,
         260
        ],
        [
         "2012-03",
         373478,
         212,
         212
        ],
        [
         "2012-04",
         400324,
         219,
         219
        ],
        [
         "2012-05",
         358866,
         207,
         207
        ],
        [
         "2012-06",
         555142,
         318,
         318
        ],
        [
         "2012-07",
         444533,
         246,
         246
        ],
        [
         "2012-08",
         523887,
         294,
         294
        ],
        [
         "2012-09",
         486149,
         269,
         269
        ],
        [
         "2012-10",
         535125,
         313,
         313
        ],
        [
         "2012-11",
         537918,
         324,
         324
        ],
        [
         "2012-12",
         624454,
         354,
         483
        ],
        [
         "2013-01",
         857758,
         627,
         1677
        ],
        [
         "2013-02",
         771218,
         1373,
         3454
        ],
        [
         "2013-03",
         1049732,
         1631,
         4087
        ],
        [
         "2013-04",
         1045860,
         1564,
         3979
        ],
        [
         "2013-05",
         1284456,
         1719,
         4400
        ],
        [
         "2013-06",
         1642948,
         1948,
         5025
        ],
        [
         "2013-07",
         1371595,
         1796,
         4673
        ],
        [
         "2013-08",
         1545910,
         1898,
         4848
        ],
        [
         "2013-09",
         1447324,
         1832,
         4616
        ],
        [
         "2013-10",
         1673261,
         2073,
         5304
        ],
        [
         "2013-11",
         1780688,
         2036,
         5224
        ],
        [
         "2013-12",
         1874128,
         2133,
         5520
        ],
        [
         "2014-01",
         45642,
         834,
         1970
        ]
       ],
       "datasetInfos": [],
       "dbfsResultPath": null,
       "isJsonSchema": true,
       "metadata": {},
       "overflow": false,
       "plotOptions": {
        "customPlotOptions": {},
        "displayType": "table",
        "pivotAggregation": null,
        "pivotColumns": null,
        "xColumns": null,
        "yColumns": null
       },
       "removedWidgets": [],
       "schema": [
        {
         "metadata": "{}",
         "name": "order_month",
         "type": "\"string\""
        },
        {
         "metadata": "{}",
         "name": "total_sales",
         "type": "\"long\""
        },
        {
         "metadata": "{}",
         "name": "total_customers",
         "type": "\"long\""
        },
        {
         "metadata": "{}",
         "name": "total_quantity",
         "type": "\"long\""
        }
       ],
       "type": "table"
      }
     },
     "output_type": "display_data"
    }
   ],
   "source": [
    "## DATE_FORMAT()\n",
    "\n",
    "df = spark.sql(\"\"\"SELECT\n",
    "    DATE_FORMAT(order_date, 'yyyy-MM') AS order_month,\n",
    "    SUM(sales_amount) AS total_sales,\n",
    "    COUNT(DISTINCT customer_key) AS total_customers,\n",
    "    SUM(quantity) AS total_quantity\n",
    "FROM dwh_project.gold.fact_sales\n",
    "WHERE order_date IS NOT NULL\n",
    "GROUP BY DATE_FORMAT(order_date, 'yyyy-MM')\n",
    "ORDER BY order_month\"\"\")\n",
    "display(df)"
   ]
  },
  {
   "cell_type": "code",
   "execution_count": 0,
   "metadata": {
    "application/vnd.databricks.v1+cell": {
     "cellMetadata": {
      "byteLimit": 2048000,
      "implicitDf": true,
      "rowLimit": 10000
     },
     "inputWidgets": {},
     "nuid": "86801662-086d-48a8-bfa6-0aab8270d50d",
     "showTitle": false,
     "tableResultSettingsMap": {},
     "title": ""
    }
   },
   "outputs": [
    {
     "output_type": "display_data",
     "data": {
      "text/html": [
       "<style scoped>\n",
       "  .table-result-container {\n",
       "    max-height: 300px;\n",
       "    overflow: auto;\n",
       "  }\n",
       "  table, th, td {\n",
       "    border: 1px solid black;\n",
       "    border-collapse: collapse;\n",
       "  }\n",
       "  th, td {\n",
       "    padding: 5px;\n",
       "  }\n",
       "  th {\n",
       "    text-align: left;\n",
       "  }\n",
       "</style><div class='table-result-container'><table class='table-result'><thead style='background-color: white'><tr><th>order_year</th><th>total_sales</th><th>running_total_sales</th><th>moving_average_price</th></tr></thead><tbody><tr><td>2010</td><td>43419</td><td>43419</td><td>3101.3571428571427</td></tr><tr><td>2011</td><td>7075088</td><td>7118507</td><td>3147.0431923671995</td></tr><tr><td>2012</td><td>5842231</td><td>12960738</td><td>2671.302369634261</td></tr><tr><td>2013</td><td>16344878</td><td>29305616</td><td>2080.8911324983264</td></tr><tr><td>2014</td><td>45642</td><td>29351258</td><td>1669.3466115824176</td></tr></tbody></table></div>"
      ]
     },
     "metadata": {
      "application/vnd.databricks.v1+output": {
       "addedWidgets": {},
       "aggData": [],
       "aggError": "",
       "aggOverflow": false,
       "aggSchema": [],
       "aggSeriesLimitReached": false,
       "aggType": "",
       "arguments": {},
       "columnCustomDisplayInfos": {},
       "data": [
        [
         "2010",
         43419,
         43419,
         3101.3571428571427
        ],
        [
         "2011",
         7075088,
         7118507,
         3147.0431923671995
        ],
        [
         "2012",
         5842231,
         12960738,
         2671.302369634261
        ],
        [
         "2013",
         16344878,
         29305616,
         2080.8911324983264
        ],
        [
         "2014",
         45642,
         29351258,
         1669.3466115824176
        ]
       ],
       "datasetInfos": [],
       "dbfsResultPath": null,
       "isJsonSchema": true,
       "metadata": {},
       "overflow": false,
       "plotOptions": {
        "customPlotOptions": {},
        "displayType": "table",
        "pivotAggregation": null,
        "pivotColumns": null,
        "xColumns": null,
        "yColumns": null
       },
       "removedWidgets": [],
       "schema": [
        {
         "metadata": "{}",
         "name": "order_year",
         "type": "\"string\""
        },
        {
         "metadata": "{}",
         "name": "total_sales",
         "type": "\"long\""
        },
        {
         "metadata": "{}",
         "name": "running_total_sales",
         "type": "\"long\""
        },
        {
         "metadata": "{}",
         "name": "moving_average_price",
         "type": "\"double\""
        }
       ],
       "type": "table"
      }
     },
     "output_type": "display_data"
    }
   ],
   "source": [
    "## Calculate the total sales per year and the running total of sales over time \n",
    "\n",
    "df = spark.sql(\"\"\"SELECT\n",
    "    order_year,\n",
    "    total_sales,\n",
    "    SUM(total_sales) OVER (ORDER BY order_year) AS running_total_sales,\n",
    "    AVG(avg_price) OVER (ORDER BY order_year) AS moving_average_price\n",
    "FROM\n",
    "(\n",
    "    SELECT \n",
    "        DATE_FORMAT(order_date, 'yyyy') AS order_year,\n",
    "        SUM(sales_amount) AS total_sales,\n",
    "        AVG(price) AS avg_price\n",
    "    FROM dwh_project.gold.fact_sales\n",
    "    WHERE order_date IS NOT NULL\n",
    "    GROUP BY DATE_FORMAT(order_date, 'yyyy')\n",
    ") t\"\"\")\n",
    "display(df)"
   ]
  },
  {
   "cell_type": "code",
   "execution_count": 0,
   "metadata": {
    "application/vnd.databricks.v1+cell": {
     "cellMetadata": {
      "byteLimit": 2048000,
      "implicitDf": true,
      "rowLimit": 10000
     },
     "inputWidgets": {},
     "nuid": "9afcb482-d1fc-486f-854f-3d2ad17695b3",
     "showTitle": false,
     "tableResultSettingsMap": {},
     "title": ""
    }
   },
   "outputs": [
    {
     "output_type": "display_data",
     "data": {
      "text/html": [
       "<style scoped>\n",
       "  .table-result-container {\n",
       "    max-height: 300px;\n",
       "    overflow: auto;\n",
       "  }\n",
       "  table, th, td {\n",
       "    border: 1px solid black;\n",
       "    border-collapse: collapse;\n",
       "  }\n",
       "  th, td {\n",
       "    padding: 5px;\n",
       "  }\n",
       "  th {\n",
       "    text-align: left;\n",
       "  }\n",
       "</style><div class='table-result-container'><table class='table-result'><thead style='background-color: white'><tr><th>order_year</th><th>product_name</th><th>current_sales</th><th>avg_sales</th><th>difference_avg</th><th>avg_change</th><th>previous_year_sales</th><th>difference_previous_year</th><th>previous_year_change</th></tr></thead><tbody><tr><td>2012</td><td>AWC Logo Cap</td><td>72</td><td>6570.0</td><td>-6498.0</td><td>Below Avg</td><td>null</td><td>null</td><td>No Change</td></tr><tr><td>2013</td><td>AWC Logo Cap</td><td>18891</td><td>6570.0</td><td>12321.0</td><td>Above Avg</td><td>72</td><td>18819</td><td>Increase</td></tr><tr><td>2014</td><td>AWC Logo Cap</td><td>747</td><td>6570.0</td><td>-5823.0</td><td>Below Avg</td><td>18891</td><td>-18144</td><td>Decrease</td></tr><tr><td>2012</td><td>All-Purpose Bike Stand</td><td>159</td><td>13197.0</td><td>-13038.0</td><td>Below Avg</td><td>null</td><td>null</td><td>No Change</td></tr><tr><td>2013</td><td>All-Purpose Bike Stand</td><td>37683</td><td>13197.0</td><td>24486.0</td><td>Above Avg</td><td>159</td><td>37524</td><td>Increase</td></tr><tr><td>2014</td><td>All-Purpose Bike Stand</td><td>1749</td><td>13197.0</td><td>-11448.0</td><td>Below Avg</td><td>37683</td><td>-35934</td><td>Decrease</td></tr><tr><td>2013</td><td>Bike Wash - Dissolver</td><td>6960</td><td>3636.0</td><td>3324.0</td><td>Above Avg</td><td>null</td><td>null</td><td>No Change</td></tr><tr><td>2014</td><td>Bike Wash - Dissolver</td><td>312</td><td>3636.0</td><td>-3324.0</td><td>Below Avg</td><td>6960</td><td>-6648</td><td>Decrease</td></tr><tr><td>2013</td><td>Classic Vest- L</td><td>11968</td><td>6240.0</td><td>5728.0</td><td>Above Avg</td><td>null</td><td>null</td><td>No Change</td></tr><tr><td>2014</td><td>Classic Vest- L</td><td>512</td><td>6240.0</td><td>-5728.0</td><td>Below Avg</td><td>11968</td><td>-11456</td><td>Decrease</td></tr><tr><td>2013</td><td>Classic Vest- M</td><td>11840</td><td>6368.0</td><td>5472.0</td><td>Above Avg</td><td>null</td><td>null</td><td>No Change</td></tr><tr><td>2014</td><td>Classic Vest- M</td><td>896</td><td>6368.0</td><td>-5472.0</td><td>Below Avg</td><td>11840</td><td>-10944</td><td>Decrease</td></tr><tr><td>2012</td><td>Classic Vest- S</td><td>64</td><td>3648.0</td><td>-3584.0</td><td>Below Avg</td><td>null</td><td>null</td><td>No Change</td></tr><tr><td>2013</td><td>Classic Vest- S</td><td>10368</td><td>3648.0</td><td>6720.0</td><td>Above Avg</td><td>64</td><td>10304</td><td>Increase</td></tr><tr><td>2014</td><td>Classic Vest- S</td><td>512</td><td>3648.0</td><td>-3136.0</td><td>Below Avg</td><td>10368</td><td>-9856</td><td>Decrease</td></tr><tr><td>2012</td><td>Fender Set - Mountain</td><td>110</td><td>15554.0</td><td>-15444.0</td><td>Below Avg</td><td>null</td><td>null</td><td>No Change</td></tr><tr><td>2013</td><td>Fender Set - Mountain</td><td>44484</td><td>15554.0</td><td>28930.0</td><td>Above Avg</td><td>110</td><td>44374</td><td>Increase</td></tr><tr><td>2014</td><td>Fender Set - Mountain</td><td>2068</td><td>15554.0</td><td>-13486.0</td><td>Below Avg</td><td>44484</td><td>-42416</td><td>Decrease</td></tr><tr><td>2012</td><td>HL Mountain Tire</td><td>140</td><td>16286.666666666666</td><td>-16146.666666666666</td><td>Below Avg</td><td>null</td><td>null</td><td>No Change</td></tr><tr><td>2013</td><td>HL Mountain Tire</td><td>46935</td><td>16286.666666666666</td><td>30648.333333333336</td><td>Above Avg</td><td>140</td><td>46795</td><td>Increase</td></tr><tr><td>2014</td><td>HL Mountain Tire</td><td>1785</td><td>16286.666666666666</td><td>-14501.666666666666</td><td>Below Avg</td><td>46935</td><td>-45150</td><td>Decrease</td></tr><tr><td>2012</td><td>HL Road Tire</td><td>132</td><td>9438.0</td><td>-9306.0</td><td>Below Avg</td><td>null</td><td>null</td><td>No Change</td></tr><tr><td>2013</td><td>HL Road Tire</td><td>26532</td><td>9438.0</td><td>17094.0</td><td>Above Avg</td><td>132</td><td>26400</td><td>Increase</td></tr><tr><td>2014</td><td>HL Road Tire</td><td>1650</td><td>9438.0</td><td>-7788.0</td><td>Below Avg</td><td>26532</td><td>-24882</td><td>Decrease</td></tr><tr><td>2012</td><td>Half-Finger Gloves- L</td><td>24</td><td>3544.0</td><td>-3520.0</td><td>Below Avg</td><td>null</td><td>null</td><td>No Change</td></tr><tr><td>2013</td><td>Half-Finger Gloves- L</td><td>10248</td><td>3544.0</td><td>6704.0</td><td>Above Avg</td><td>24</td><td>10224</td><td>Increase</td></tr><tr><td>2014</td><td>Half-Finger Gloves- L</td><td>360</td><td>3544.0</td><td>-3184.0</td><td>Below Avg</td><td>10248</td><td>-9888</td><td>Decrease</td></tr><tr><td>2012</td><td>Half-Finger Gloves- M</td><td>24</td><td>3992.0</td><td>-3968.0</td><td>Below Avg</td><td>null</td><td>null</td><td>No Change</td></tr><tr><td>2013</td><td>Half-Finger Gloves- M</td><td>11376</td><td>3992.0</td><td>7384.0</td><td>Above Avg</td><td>24</td><td>11352</td><td>Increase</td></tr><tr><td>2014</td><td>Half-Finger Gloves- M</td><td>576</td><td>3992.0</td><td>-3416.0</td><td>Below Avg</td><td>11376</td><td>-10800</td><td>Decrease</td></tr><tr><td>2012</td><td>Half-Finger Gloves- S</td><td>24</td><td>3896.0</td><td>-3872.0</td><td>Below Avg</td><td>null</td><td>null</td><td>No Change</td></tr><tr><td>2013</td><td>Half-Finger Gloves- S</td><td>11064</td><td>3896.0</td><td>7168.0</td><td>Above Avg</td><td>24</td><td>11040</td><td>Increase</td></tr><tr><td>2014</td><td>Half-Finger Gloves- S</td><td>600</td><td>3896.0</td><td>-3296.0</td><td>Below Avg</td><td>11064</td><td>-10464</td><td>Decrease</td></tr><tr><td>2013</td><td>Hitch Rack - 4-Bike</td><td>36840</td><td>19620.0</td><td>17220.0</td><td>Above Avg</td><td>null</td><td>null</td><td>No Change</td></tr><tr><td>2014</td><td>Hitch Rack - 4-Bike</td><td>2400</td><td>19620.0</td><td>-17220.0</td><td>Below Avg</td><td>36840</td><td>-34440</td><td>Decrease</td></tr><tr><td>2012</td><td>Hydration Pack - 70 oz.</td><td>110</td><td>13438.333333333334</td><td>-13328.333333333334</td><td>Below Avg</td><td>null</td><td>null</td><td>No Change</td></tr><tr><td>2013</td><td>Hydration Pack - 70 oz.</td><td>38940</td><td>13438.333333333334</td><td>25501.666666666664</td><td>Above Avg</td><td>110</td><td>38830</td><td>Increase</td></tr><tr><td>2014</td><td>Hydration Pack - 70 oz.</td><td>1265</td><td>13438.333333333334</td><td>-12173.333333333334</td><td>Below Avg</td><td>38940</td><td>-37675</td><td>Decrease</td></tr><tr><td>2013</td><td>LL Mountain Tire</td><td>20125</td><td>10775.0</td><td>9350.0</td><td>Above Avg</td><td>null</td><td>null</td><td>No Change</td></tr><tr><td>2014</td><td>LL Mountain Tire</td><td>1425</td><td>10775.0</td><td>-9350.0</td><td>Below Avg</td><td>20125</td><td>-18700</td><td>Decrease</td></tr><tr><td>2012</td><td>LL Road Tire</td><td>105</td><td>7301.0</td><td>-7196.0</td><td>Below Avg</td><td>null</td><td>null</td><td>No Change</td></tr><tr><td>2013</td><td>LL Road Tire</td><td>20622</td><td>7301.0</td><td>13321.0</td><td>Above Avg</td><td>105</td><td>20517</td><td>Increase</td></tr><tr><td>2014</td><td>LL Road Tire</td><td>1176</td><td>7301.0</td><td>-6125.0</td><td>Below Avg</td><td>20622</td><td>-19446</td><td>Decrease</td></tr><tr><td>2012</td><td>Long-Sleeve Logo Jersey- L</td><td>150</td><td>7550.0</td><td>-7400.0</td><td>Below Avg</td><td>null</td><td>null</td><td>No Change</td></tr><tr><td>2013</td><td>Long-Sleeve Logo Jersey- L</td><td>21550</td><td>7550.0</td><td>14000.0</td><td>Above Avg</td><td>150</td><td>21400</td><td>Increase</td></tr><tr><td>2014</td><td>Long-Sleeve Logo Jersey- L</td><td>950</td><td>7550.0</td><td>-6600.0</td><td>Below Avg</td><td>21550</td><td>-20600</td><td>Decrease</td></tr><tr><td>2012</td><td>Long-Sleeve Logo Jersey- M</td><td>50</td><td>7366.666666666667</td><td>-7316.666666666667</td><td>Below Avg</td><td>null</td><td>null</td><td>No Change</td></tr><tr><td>2013</td><td>Long-Sleeve Logo Jersey- M</td><td>20850</td><td>7366.666666666667</td><td>13483.333333333332</td><td>Above Avg</td><td>50</td><td>20800</td><td>Increase</td></tr><tr><td>2014</td><td>Long-Sleeve Logo Jersey- M</td><td>1200</td><td>7366.666666666667</td><td>-6166.666666666667</td><td>Below Avg</td><td>20850</td><td>-19650</td><td>Decrease</td></tr><tr><td>2013</td><td>Long-Sleeve Logo Jersey- S</td><td>20350</td><td>10725.0</td><td>9625.0</td><td>Above Avg</td><td>null</td><td>null</td><td>No Change</td></tr><tr><td>2014</td><td>Long-Sleeve Logo Jersey- S</td><td>1100</td><td>10725.0</td><td>-9625.0</td><td>Below Avg</td><td>20350</td><td>-19250</td><td>Decrease</td></tr><tr><td>2013</td><td>Long-Sleeve Logo Jersey- XL</td><td>19850</td><td>10350.0</td><td>9500.0</td><td>Above Avg</td><td>null</td><td>null</td><td>No Change</td></tr><tr><td>2014</td><td>Long-Sleeve Logo Jersey- XL</td><td>850</td><td>10350.0</td><td>-9500.0</td><td>Below Avg</td><td>19850</td><td>-19000</td><td>Decrease</td></tr><tr><td>2012</td><td>ML Mountain Tire</td><td>30</td><td>11600.0</td><td>-11570.0</td><td>Below Avg</td><td>null</td><td>null</td><td>No Change</td></tr><tr><td>2013</td><td>ML Mountain Tire</td><td>32580</td><td>11600.0</td><td>20980.0</td><td>Above Avg</td><td>30</td><td>32550</td><td>Increase</td></tr><tr><td>2014</td><td>ML Mountain Tire</td><td>2190</td><td>11600.0</td><td>-9410.0</td><td>Below Avg</td><td>32580</td><td>-30390</td><td>Decrease</td></tr><tr><td>2012</td><td>ML Road Tire</td><td>50</td><td>7708.333333333333</td><td>-7658.333333333333</td><td>Below Avg</td><td>null</td><td>null</td><td>No Change</td></tr><tr><td>2013</td><td>ML Road Tire</td><td>22275</td><td>7708.333333333333</td><td>14566.666666666668</td><td>Above Avg</td><td>50</td><td>22225</td><td>Increase</td></tr><tr><td>2014</td><td>ML Road Tire</td><td>800</td><td>7708.333333333333</td><td>-6908.333333333333</td><td>Below Avg</td><td>22275</td><td>-21475</td><td>Decrease</td></tr><tr><td>2012</td><td>Mountain Bottle Cage</td><td>110</td><td>6780.0</td><td>-6670.0</td><td>Below Avg</td><td>null</td><td>null</td><td>No Change</td></tr><tr><td>2013</td><td>Mountain Bottle Cage</td><td>19530</td><td>6780.0</td><td>12750.0</td><td>Above Avg</td><td>110</td><td>19420</td><td>Increase</td></tr><tr><td>2014</td><td>Mountain Bottle Cage</td><td>700</td><td>6780.0</td><td>-6080.0</td><td>Below Avg</td><td>19530</td><td>-18830</td><td>Decrease</td></tr><tr><td>2012</td><td>Mountain Tire Tube</td><td>15</td><td>5155.0</td><td>-5140.0</td><td>Below Avg</td><td>null</td><td>null</td><td>No Change</td></tr><tr><td>2013</td><td>Mountain Tire Tube</td><td>14620</td><td>5155.0</td><td>9465.0</td><td>Above Avg</td><td>15</td><td>14605</td><td>Increase</td></tr><tr><td>2014</td><td>Mountain Tire Tube</td><td>830</td><td>5155.0</td><td>-4325.0</td><td>Below Avg</td><td>14620</td><td>-13790</td><td>Decrease</td></tr><tr><td>2011</td><td>Mountain-100 Black- 38</td><td>165375</td><td>165375.0</td><td>0.0</td><td>Avg</td><td>null</td><td>null</td><td>No Change</td></tr><tr><td>2011</td><td>Mountain-100 Black- 42</td><td>151875</td><td>151875.0</td><td>0.0</td><td>Avg</td><td>null</td><td>null</td><td>No Change</td></tr><tr><td>2011</td><td>Mountain-100 Black- 44</td><td>202500</td><td>202500.0</td><td>0.0</td><td>Avg</td><td>null</td><td>null</td><td>No Change</td></tr><tr><td>2010</td><td>Mountain-100 Black- 48</td><td>3375</td><td>96187.5</td><td>-92812.5</td><td>Below Avg</td><td>null</td><td>null</td><td>No Change</td></tr><tr><td>2011</td><td>Mountain-100 Black- 48</td><td>189000</td><td>96187.5</td><td>92812.5</td><td>Above Avg</td><td>3375</td><td>185625</td><td>Increase</td></tr><tr><td>2010</td><td>Mountain-100 Silver- 38</td><td>3400</td><td>98600.0</td><td>-95200.0</td><td>Below Avg</td><td>null</td><td>null</td><td>No Change</td></tr><tr><td>2011</td><td>Mountain-100 Silver- 38</td><td>193800</td><td>98600.0</td><td>95200.0</td><td>Above Avg</td><td>3400</td><td>190400</td><td>Increase</td></tr><tr><td>2011</td><td>Mountain-100 Silver- 42</td><td>142800</td><td>142800.0</td><td>0.0</td><td>Avg</td><td>null</td><td>null</td><td>No Change</td></tr><tr><td>2010</td><td>Mountain-100 Silver- 44</td><td>10200</td><td>83300.0</td><td>-73100.0</td><td>Below Avg</td><td>null</td><td>null</td><td>No Change</td></tr><tr><td>2011</td><td>Mountain-100 Silver- 44</td><td>156400</td><td>83300.0</td><td>73100.0</td><td>Above Avg</td><td>10200</td><td>146200</td><td>Increase</td></tr><tr><td>2011</td><td>Mountain-100 Silver- 48</td><td>122400</td><td>122400.0</td><td>0.0</td><td>Avg</td><td>null</td><td>null</td><td>No Change</td></tr><tr><td>2011</td><td>Mountain-200 Black- 38</td><td>4098</td><td>430853.0</td><td>-426755.0</td><td>Below Avg</td><td>null</td><td>null</td><td>No Change</td></tr><tr><td>2012</td><td>Mountain-200 Black- 38</td><td>342921</td><td>430853.0</td><td>-87932.0</td><td>Below Avg</td><td>4098</td><td>338823</td><td>Increase</td></tr><tr><td>2013</td><td>Mountain-200 Black- 38</td><td>945540</td><td>430853.0</td><td>514687.0</td><td>Above Avg</td><td>342921</td><td>602619</td><td>Increase</td></tr><tr><td>2012</td><td>Mountain-200 Black- 42</td><td>392343</td><td>681564.0</td><td>-289221.0</td><td>Below Avg</td><td>null</td><td>null</td><td>No Change</td></tr><tr><td>2013</td><td>Mountain-200 Black- 42</td><td>970785</td><td>681564.0</td><td>289221.0</td><td>Above Avg</td><td>392343</td><td>578442</td><td>Increase</td></tr><tr><td>2011</td><td>Mountain-200 Black- 46</td><td>2049</td><td>457818.0</td><td>-455769.0</td><td>Below Avg</td><td>null</td><td>null</td><td>No Change</td></tr><tr><td>2012</td><td>Mountain-200 Black- 46</td><td>423570</td><td>457818.0</td><td>-34248.0</td><td>Below Avg</td><td>2049</td><td>421521</td><td>Increase</td></tr><tr><td>2013</td><td>Mountain-200 Black- 46</td><td>947835</td><td>457818.0</td><td>490017.0</td><td>Above Avg</td><td>423570</td><td>524265</td><td>Increase</td></tr><tr><td>2012</td><td>Mountain-200 Silver- 38</td><td>371954</td><td>669697.0</td><td>-297743.0</td><td>Below Avg</td><td>null</td><td>null</td><td>No Change</td></tr><tr><td>2013</td><td>Mountain-200 Silver- 38</td><td>967440</td><td>669697.0</td><td>297743.0</td><td>Above Avg</td><td>371954</td><td>595486</td><td>Increase</td></tr><tr><td>2011</td><td>Mountain-200 Silver- 42</td><td>2071</td><td>419122.6666666667</td><td>-417051.6666666667</td><td>Below Avg</td><td>null</td><td>null</td><td>No Change</td></tr><tr><td>2012</td><td>Mountain-200 Silver- 42</td><td>352817</td><td>419122.6666666667</td><td>-66305.66666666669</td><td>Below Avg</td><td>2071</td><td>350746</td><td>Increase</td></tr><tr><td>2013</td><td>Mountain-200 Silver- 42</td><td>902480</td><td>419122.6666666667</td><td>483357.3333333333</td><td>Above Avg</td><td>352817</td><td>549663</td><td>Increase</td></tr><tr><td>2012</td><td>Mountain-200 Silver- 46</td><td>377669</td><td>649354.5</td><td>-271685.5</td><td>Below Avg</td><td>null</td><td>null</td><td>No Change</td></tr><tr><td>2013</td><td>Mountain-200 Silver- 46</td><td>921040</td><td>649354.5</td><td>271685.5</td><td>Above Avg</td><td>377669</td><td>543371</td><td>Increase</td></tr><tr><td>2013</td><td>Mountain-400-W Silver- 38</td><td>113812</td><td>113812.0</td><td>0.0</td><td>Avg</td><td>null</td><td>null</td><td>No Change</td></tr><tr><td>2012</td><td>Mountain-400-W Silver- 40</td><td>769</td><td>49216.0</td><td>-48447.0</td><td>Below Avg</td><td>null</td><td>null</td><td>No Change</td></tr><tr><td>2013</td><td>Mountain-400-W Silver- 40</td><td>97663</td><td>49216.0</td><td>48447.0</td><td>Above Avg</td><td>769</td><td>96894</td><td>Increase</td></tr><tr><td>2013</td><td>Mountain-400-W Silver- 42</td><td>99201</td><td>99201.0</td><td>0.0</td><td>Avg</td><td>null</td><td>null</td><td>No Change</td></tr><tr><td>2013</td><td>Mountain-400-W Silver- 46</td><td>106122</td><td>106122.0</td><td>0.0</td><td>Avg</td><td>null</td><td>null</td><td>No Change</td></tr><tr><td>2012</td><td>Mountain-500 Black- 40</td><td>540</td><td>12960.0</td><td>-12420.0</td><td>Below Avg</td><td>null</td><td>null</td><td>No Change</td></tr><tr><td>2013</td><td>Mountain-500 Black- 40</td><td>25380</td><td>12960.0</td><td>12420.0</td><td>Above Avg</td><td>540</td><td>24840</td><td>Increase</td></tr><tr><td>2013</td><td>Mountain-500 Black- 42</td><td>26460</td><td>26460.0</td><td>0.0</td><td>Avg</td><td>null</td><td>null</td><td>No Change</td></tr><tr><td>2013</td><td>Mountain-500 Black- 44</td><td>31320</td><td>31320.0</td><td>0.0</td><td>Avg</td><td>null</td><td>null</td><td>No Change</td></tr><tr><td>2013</td><td>Mountain-500 Black- 48</td><td>30240</td><td>30240.0</td><td>0.0</td><td>Avg</td><td>null</td><td>null</td><td>No Change</td></tr><tr><td>2013</td><td>Mountain-500 Black- 52</td><td>22140</td><td>22140.0</td><td>0.0</td><td>Avg</td><td>null</td><td>null</td><td>No Change</td></tr><tr><td>2013</td><td>Mountain-500 Silver- 40</td><td>25425</td><td>25425.0</td><td>0.0</td><td>Avg</td><td>null</td><td>null</td><td>No Change</td></tr><tr><td>2013</td><td>Mountain-500 Silver- 42</td><td>25425</td><td>25425.0</td><td>0.0</td><td>Avg</td><td>null</td><td>null</td><td>No Change</td></tr><tr><td>2012</td><td>Mountain-500 Silver- 44</td><td>565</td><td>11017.5</td><td>-10452.5</td><td>Below Avg</td><td>null</td><td>null</td><td>No Change</td></tr><tr><td>2013</td><td>Mountain-500 Silver- 44</td><td>21470</td><td>11017.5</td><td>10452.5</td><td>Above Avg</td><td>565</td><td>20905</td><td>Increase</td></tr><tr><td>2013</td><td>Mountain-500 Silver- 48</td><td>28250</td><td>28250.0</td><td>0.0</td><td>Avg</td><td>null</td><td>null</td><td>No Change</td></tr><tr><td>2013</td><td>Mountain-500 Silver- 52</td><td>27120</td><td>27120.0</td><td>0.0</td><td>Avg</td><td>null</td><td>null</td><td>No Change</td></tr><tr><td>2012</td><td>Patch Kit/8 Patches</td><td>8</td><td>2126.0</td><td>-2118.0</td><td>Below Avg</td><td>null</td><td>null</td><td>No Change</td></tr><tr><td>2013</td><td>Patch Kit/8 Patches</td><td>6048</td><td>2126.0</td><td>3922.0</td><td>Above Avg</td><td>8</td><td>6040</td><td>Increase</td></tr><tr><td>2014</td><td>Patch Kit/8 Patches</td><td>322</td><td>2126.0</td><td>-1804.0</td><td>Below Avg</td><td>6048</td><td>-5726</td><td>Decrease</td></tr><tr><td>2012</td><td>Racing Socks- L</td><td>18</td><td>810.0</td><td>-792.0</td><td>Below Avg</td><td>null</td><td>null</td><td>No Change</td></tr><tr><td>2013</td><td>Racing Socks- L</td><td>2340</td><td>810.0</td><td>1530.0</td><td>Above Avg</td><td>18</td><td>2322</td><td>Increase</td></tr><tr><td>2014</td><td>Racing Socks- L</td><td>72</td><td>810.0</td><td>-738.0</td><td>Below Avg</td><td>2340</td><td>-2268</td><td>Decrease</td></tr><tr><td>2013</td><td>Racing Socks- M</td><td>2529</td><td>1341.0</td><td>1188.0</td><td>Above Avg</td><td>null</td><td>null</td><td>No Change</td></tr><tr><td>2014</td><td>Racing Socks- M</td><td>153</td><td>1341.0</td><td>-1188.0</td><td>Below Avg</td><td>2529</td><td>-2376</td><td>Decrease</td></tr><tr><td>2012</td><td>Road Bottle Cage</td><td>81</td><td>5133.0</td><td>-5052.0</td><td>Below Avg</td><td>null</td><td>null</td><td>No Change</td></tr><tr><td>2013</td><td>Road Bottle Cage</td><td>15237</td><td>5133.0</td><td>10104.0</td><td>Above Avg</td><td>81</td><td>15156</td><td>Increase</td></tr><tr><td>2014</td><td>Road Bottle Cage</td><td>81</td><td>5133.0</td><td>-5052.0</td><td>Below Avg</td><td>15237</td><td>-15156</td><td>Decrease</td></tr><tr><td>2012</td><td>Road Tire Tube</td><td>28</td><td>3166.6666666666665</td><td>-3138.6666666666665</td><td>Below Avg</td><td>null</td><td>null</td><td>No Change</td></tr><tr><td>2013</td><td>Road Tire Tube</td><td>8888</td><td>3166.6666666666665</td><td>5721.333333333334</td><td>Above Avg</td><td>28</td><td>8860</td><td>Increase</td></tr><tr><td>2014</td><td>Road Tire Tube</td><td>584</td><td>3166.6666666666665</td><td>-2582.6666666666665</td><td>Below Avg</td><td>8888</td><td>-8304</td><td>Decrease</td></tr><tr><td>2010</td><td>Road-150 Red- 44</td><td>3578</td><td>502709.0</td><td>-499131.0</td><td>Below Avg</td><td>null</td><td>null</td><td>No Change</td></tr><tr><td>2011</td><td>Road-150 Red- 44</td><td>1001840</td><td>502709.0</td><td>499131.0</td><td>Above Avg</td><td>3578</td><td>998262</td><td>Increase</td></tr><tr><td>2010</td><td>Road-150 Red- 48</td><td>7156</td><td>602893.0</td><td>-595737.0</td><td>Below Avg</td><td>null</td><td>null</td><td>No Change</td></tr><tr><td>2011</td><td>Road-150 Red- 48</td><td>1198630</td><td>602893.0</td><td>595737.0</td><td>Above Avg</td><td>7156</td><td>1191474</td><td>Increase</td></tr><tr><td>2010</td><td>Road-150 Red- 52</td><td>3578</td><td>540278.0</td><td>-536700.0</td><td>Below Avg</td><td>null</td><td>null</td><td>No Change</td></tr><tr><td>2011</td><td>Road-150 Red- 52</td><td>1076978</td><td>540278.0</td><td>536700.0</td><td>Above Avg</td><td>3578</td><td>1073400</td><td>Increase</td></tr><tr><td>2010</td><td>Road-150 Red- 56</td><td>3578</td><td>527755.0</td><td>-524177.0</td><td>Below Avg</td><td>null</td><td>null</td><td>No Change</td></tr><tr><td>2011</td><td>Road-150 Red- 56</td><td>1051932</td><td>527755.0</td><td>524177.0</td><td>Above Avg</td><td>3578</td><td>1048354</td><td>Increase</td></tr><tr><td>2010</td><td>Road-150 Red- 62</td><td>7156</td><td>601104.0</td><td>-593948.0</td><td>Below Avg</td><td>null</td><td>null</td><td>No Change</td></tr><tr><td>2011</td><td>Road-150 Red- 62</td><td>1195052</td><td>601104.0</td><td>593948.0</td><td>Above Avg</td><td>7156</td><td>1187896</td><td>Increase</td></tr><tr><td>2011</td><td>Road-250 Black- 44</td><td>6546</td><td>209461.33333333334</td><td>-202915.33333333334</td><td>Below Avg</td><td>null</td><td>null</td><td>No Change</td></tr><tr><td>2012</td><td>Road-250 Black- 44</td><td>279818</td><td>209461.33333333334</td><td>70356.66666666666</td><td>Above Avg</td><td>6546</td><td>273272</td><td>Increase</td></tr><tr><td>2013</td><td>Road-250 Black- 44</td><td>342020</td><td>209461.33333333334</td><td>132558.66666666666</td><td>Above Avg</td><td>279818</td><td>62202</td><td>Increase</td></tr><tr><td>2012</td><td>Road-250 Black- 48</td><td>310105</td><td>345606.5</td><td>-35501.5</td><td>Below Avg</td><td>null</td><td>null</td><td>No Change</td></tr><tr><td>2013</td><td>Road-250 Black- 48</td><td>381108</td><td>345606.5</td><td>35501.5</td><td>Above Avg</td><td>310105</td><td>71003</td><td>Increase</td></tr><tr><td>2011</td><td>Road-250 Black- 52</td><td>4364</td><td>244808.33333333334</td><td>-240444.33333333334</td><td>Below Avg</td><td>null</td><td>null</td><td>No Change</td></tr><tr><td>2012</td><td>Road-250 Black- 52</td><td>378269</td><td>244808.33333333334</td><td>133460.66666666666</td><td>Above Avg</td><td>4364</td><td>373905</td><td>Increase</td></tr><tr><td>2013</td><td>Road-250 Black- 52</td><td>351792</td><td>244808.33333333334</td><td>106983.66666666666</td><td>Above Avg</td><td>378269</td><td>-26477</td><td>Decrease</td></tr><tr><td>2011</td><td>Road-250 Black- 58</td><td>2182</td><td>207342.0</td><td>-205160.0</td><td>Below Avg</td><td>null</td><td>null</td><td>No Change</td></tr><tr><td>2012</td><td>Road-250 Black- 58</td><td>316912</td><td>207342.0</td><td>109570.0</td><td>Above Avg</td><td>2182</td><td>314730</td><td>Increase</td></tr><tr><td>2013</td><td>Road-250 Black- 58</td><td>302932</td><td>207342.0</td><td>95590.0</td><td>Above Avg</td><td>316912</td><td>-13980</td><td>Decrease</td></tr><tr><td>2011</td><td>Road-250 Red- 44</td><td>4886</td><td>175896.0</td><td>-171010.0</td><td>Below Avg</td><td>null</td><td>null</td><td>No Change</td></tr><tr><td>2012</td><td>Road-250 Red- 44</td><td>346906</td><td>175896.0</td><td>171010.0</td><td>Above Avg</td><td>4886</td><td>342020</td><td>Increase</td></tr><tr><td>2011</td><td>Road-250 Red- 48</td><td>7329</td><td>197883.0</td><td>-190554.0</td><td>Below Avg</td><td>null</td><td>null</td><td>No Change</td></tr><tr><td>2012</td><td>Road-250 Red- 48</td><td>388437</td><td>197883.0</td><td>190554.0</td><td>Above Avg</td><td>7329</td><td>381108</td><td>Increase</td></tr><tr><td>2011</td><td>Road-250 Red- 52</td><td>2443</td><td>162459.5</td><td>-160016.5</td><td>Below Avg</td><td>null</td><td>null</td><td>No Change</td></tr><tr><td>2012</td><td>Road-250 Red- 52</td><td>322476</td><td>162459.5</td><td>160016.5</td><td>Above Avg</td><td>2443</td><td>320033</td><td>Increase</td></tr><tr><td>2011</td><td>Road-250 Red- 58</td><td>6546</td><td>234222.0</td><td>-227676.0</td><td>Below Avg</td><td>null</td><td>null</td><td>No Change</td></tr><tr><td>2012</td><td>Road-250 Red- 58</td><td>376087</td><td>234222.0</td><td>141865.0</td><td>Above Avg</td><td>6546</td><td>369541</td><td>Increase</td></tr><tr><td>2013</td><td>Road-250 Red- 58</td><td>320033</td><td>234222.0</td><td>85811.0</td><td>Above Avg</td><td>376087</td><td>-56054</td><td>Decrease</td></tr><tr><td>2012</td><td>Road-350-W Yellow- 40</td><td>1701</td><td>209223.0</td><td>-207522.0</td><td>Below Avg</td><td>null</td><td>null</td><td>No Change</td></tr><tr><td>2013</td><td>Road-350-W Yellow- 40</td><td>416745</td><td>209223.0</td><td>207522.0</td><td>Above Avg</td><td>1701</td><td>415044</td><td>Increase</td></tr><tr><td>2012</td><td>Road-350-W Yellow- 42</td><td>5103</td><td>199867.5</td><td>-194764.5</td><td>Below Avg</td><td>null</td><td>null</td><td>No Change</td></tr><tr><td>2013</td><td>Road-350-W Yellow- 42</td><td>394632</td><td>199867.5</td><td>194764.5</td><td>Above Avg</td><td>5103</td><td>389529</td><td>Increase</td></tr><tr><td>2013</td><td>Road-350-W Yellow- 44</td><td>367416</td><td>367416.0</td><td>0.0</td><td>Avg</td><td>null</td><td>null</td><td>No Change</td></tr><tr><td>2012</td><td>Road-350-W Yellow- 48</td><td>1701</td><td>197316.0</td><td>-195615.0</td><td>Below Avg</td><td>null</td><td>null</td><td>No Change</td></tr><tr><td>2013</td><td>Road-350-W Yellow- 48</td><td>392931</td><td>197316.0</td><td>195615.0</td><td>Above Avg</td><td>1701</td><td>391230</td><td>Increase</td></tr><tr><td>2011</td><td>Road-550-W Yellow- 38</td><td>1000</td><td>97920.0</td><td>-96920.0</td><td>Below Avg</td><td>null</td><td>null</td><td>No Change</td></tr><tr><td>2012</td><td>Road-550-W Yellow- 38</td><td>71000</td><td>97920.0</td><td>-26920.0</td><td>Below Avg</td><td>1000</td><td>70000</td><td>Increase</td></tr><tr><td>2013</td><td>Road-550-W Yellow- 38</td><td>221760</td><td>97920.0</td><td>123840.0</td><td>Above Avg</td><td>71000</td><td>150760</td><td>Increase</td></tr><tr><td>2012</td><td>Road-550-W Yellow- 40</td><td>68120</td><td>144940.0</td><td>-76820.0</td><td>Below Avg</td><td>null</td><td>null</td><td>No Change</td></tr><tr><td>2013</td><td>Road-550-W Yellow- 40</td><td>221760</td><td>144940.0</td><td>76820.0</td><td>Above Avg</td><td>68120</td><td>153640</td><td>Increase</td></tr><tr><td>2011</td><td>Road-550-W Yellow- 42</td><td>1000</td><td>111480.0</td><td>-110480.0</td><td>Below Avg</td><td>null</td><td>null</td><td>No Change</td></tr><tr><td>2012</td><td>Road-550-W Yellow- 42</td><td>68000</td><td>111480.0</td><td>-43480.0</td><td>Below Avg</td><td>1000</td><td>67000</td><td>Increase</td></tr><tr><td>2013</td><td>Road-550-W Yellow- 42</td><td>265440</td><td>111480.0</td><td>153960.0</td><td>Above Avg</td><td>68000</td><td>197440</td><td>Increase</td></tr><tr><td>2012</td><td>Road-550-W Yellow- 44</td><td>78120</td><td>156100.0</td><td>-77980.0</td><td>Below Avg</td><td>null</td><td>null</td><td>No Change</td></tr><tr><td>2013</td><td>Road-550-W Yellow- 44</td><td>234080</td><td>156100.0</td><td>77980.0</td><td>Above Avg</td><td>78120</td><td>155960</td><td>Increase</td></tr><tr><td>2012</td><td>Road-550-W Yellow- 48</td><td>74240</td><td>141840.0</td><td>-67600.0</td><td>Below Avg</td><td>null</td><td>null</td><td>No Change</td></tr><tr><td>2013</td><td>Road-550-W Yellow- 48</td><td>209440</td><td>141840.0</td><td>67600.0</td><td>Above Avg</td><td>74240</td><td>135200</td><td>Increase</td></tr><tr><td>2011</td><td>Road-650 Black- 44</td><td>14679</td><td>23782.5</td><td>-9103.5</td><td>Below Avg</td><td>null</td><td>null</td><td>No Change</td></tr><tr><td>2012</td><td>Road-650 Black- 44</td><td>32886</td><td>23782.5</td><td>9103.5</td><td>Above Avg</td><td>14679</td><td>18207</td><td>Increase</td></tr><tr><td>2011</td><td>Road-650 Black- 48</td><td>11883</td><td>22776.0</td><td>-10893.0</td><td>Below Avg</td><td>null</td><td>null</td><td>No Change</td></tr><tr><td>2012</td><td>Road-650 Black- 48</td><td>33669</td><td>22776.0</td><td>10893.0</td><td>Above Avg</td><td>11883</td><td>21786</td><td>Increase</td></tr><tr><td>2011</td><td>Road-650 Black- 52</td><td>23067</td><td>33457.5</td><td>-10390.5</td><td>Below Avg</td><td>null</td><td>null</td><td>No Change</td></tr><tr><td>2012</td><td>Road-650 Black- 52</td><td>43848</td><td>33457.5</td><td>10390.5</td><td>Above Avg</td><td>23067</td><td>20781</td><td>Increase</td></tr><tr><td>2011</td><td>Road-650 Black- 58</td><td>12582</td><td>28998.0</td><td>-16416.0</td><td>Below Avg</td><td>null</td><td>null</td><td>No Change</td></tr><tr><td>2012</td><td>Road-650 Black- 58</td><td>45414</td><td>28998.0</td><td>16416.0</td><td>Above Avg</td><td>12582</td><td>32832</td><td>Increase</td></tr><tr><td>2011</td><td>Road-650 Black- 60</td><td>19572</td><td>28578.0</td><td>-9006.0</td><td>Below Avg</td><td>null</td><td>null</td><td>No Change</td></tr><tr><td>2012</td><td>Road-650 Black- 60</td><td>37584</td><td>28578.0</td><td>9006.0</td><td>Above Avg</td><td>19572</td><td>18012</td><td>Increase</td></tr><tr><td>2010</td><td>Road-650 Black- 62</td><td>699</td><td>16349.0</td><td>-15650.0</td><td>Below Avg</td><td>null</td><td>null</td><td>No Change</td></tr><tr><td>2011</td><td>Road-650 Black- 62</td><td>14679</td><td>16349.0</td><td>-1670.0</td><td>Below Avg</td><td>699</td><td>13980</td><td>Increase</td></tr><tr><td>2012</td><td>Road-650 Black- 62</td><td>33669</td><td>16349.0</td><td>17320.0</td><td>Above Avg</td><td>14679</td><td>18990</td><td>Increase</td></tr><tr><td>2011</td><td>Road-650 Red- 44</td><td>15378</td><td>27264.0</td><td>-11886.0</td><td>Below Avg</td><td>null</td><td>null</td><td>No Change</td></tr><tr><td>2012</td><td>Road-650 Red- 44</td><td>39150</td><td>27264.0</td><td>11886.0</td><td>Above Avg</td><td>15378</td><td>23772</td><td>Increase</td></tr><tr><td>2011</td><td>Road-650 Red- 48</td><td>18957</td><td>33360.0</td><td>-14403.0</td><td>Below Avg</td><td>null</td><td>null</td><td>No Change</td></tr><tr><td>2012</td><td>Road-650 Red- 48</td><td>47763</td><td>33360.0</td><td>14403.0</td><td>Above Avg</td><td>18957</td><td>28806</td><td>Increase</td></tr><tr><td>2010</td><td>Road-650 Red- 52</td><td>699</td><td>15361.0</td><td>-14662.0</td><td>Below Avg</td><td>null</td><td>null</td><td>No Change</td></tr><tr><td>2011</td><td>Road-650 Red- 52</td><td>14064</td><td>15361.0</td><td>-1297.0</td><td>Below Avg</td><td>699</td><td>13365</td><td>Increase</td></tr><tr><td>2012</td><td>Road-650 Red- 52</td><td>31320</td><td>15361.0</td><td>15959.0</td><td>Above Avg</td><td>14064</td><td>17256</td><td>Increase</td></tr><tr><td>2011</td><td>Road-650 Red- 58</td><td>13281</td><td>28173.0</td><td>-14892.0</td><td>Below Avg</td><td>null</td><td>null</td><td>No Change</td></tr><tr><td>2012</td><td>Road-650 Red- 58</td><td>43065</td><td>28173.0</td><td>14892.0</td><td>Above Avg</td><td>13281</td><td>29784</td><td>Increase</td></tr><tr><td>2011</td><td>Road-650 Red- 60</td><td>11883</td><td>20035.5</td><td>-8152.5</td><td>Below Avg</td><td>null</td><td>null</td><td>No Change</td></tr><tr><td>2012</td><td>Road-650 Red- 60</td><td>28188</td><td>20035.5</td><td>8152.5</td><td>Above Avg</td><td>11883</td><td>16305</td><td>Increase</td></tr><tr><td>2011</td><td>Road-650 Red- 62</td><td>11967</td><td>28690.5</td><td>-16723.5</td><td>Below Avg</td><td>null</td><td>null</td><td>No Change</td></tr><tr><td>2012</td><td>Road-650 Red- 62</td><td>45414</td><td>28690.5</td><td>16723.5</td><td>Above Avg</td><td>11967</td><td>33447</td><td>Increase</td></tr><tr><td>2012</td><td>Road-750 Black- 44</td><td>1620</td><td>97200.0</td><td>-95580.0</td><td>Below Avg</td><td>null</td><td>null</td><td>No Change</td></tr><tr><td>2013</td><td>Road-750 Black- 44</td><td>192780</td><td>97200.0</td><td>95580.0</td><td>Above Avg</td><td>1620</td><td>191160</td><td>Increase</td></tr><tr><td>2012</td><td>Road-750 Black- 48</td><td>1080</td><td>98010.0</td><td>-96930.0</td><td>Below Avg</td><td>null</td><td>null</td><td>No Change</td></tr><tr><td>2013</td><td>Road-750 Black- 48</td><td>194940</td><td>98010.0</td><td>96930.0</td><td>Above Avg</td><td>1080</td><td>193860</td><td>Increase</td></tr><tr><td>2012</td><td>Road-750 Black- 52</td><td>2160</td><td>104220.0</td><td>-102060.0</td><td>Below Avg</td><td>null</td><td>null</td><td>No Change</td></tr><tr><td>2013</td><td>Road-750 Black- 52</td><td>206280</td><td>104220.0</td><td>102060.0</td><td>Above Avg</td><td>2160</td><td>204120</td><td>Increase</td></tr><tr><td>2012</td><td>Road-750 Black- 58</td><td>1080</td><td>90180.0</td><td>-89100.0</td><td>Below Avg</td><td>null</td><td>null</td><td>No Change</td></tr><tr><td>2013</td><td>Road-750 Black- 58</td><td>179280</td><td>90180.0</td><td>89100.0</td><td>Above Avg</td><td>1080</td><td>178200</td><td>Increase</td></tr><tr><td>2012</td><td>Short-Sleeve Classic Jersey- L</td><td>108</td><td>6732.0</td><td>-6624.0</td><td>Below Avg</td><td>null</td><td>null</td><td>No Change</td></tr><tr><td>2013</td><td>Short-Sleeve Classic Jersey- L</td><td>19764</td><td>6732.0</td><td>13032.0</td><td>Above Avg</td><td>108</td><td>19656</td><td>Increase</td></tr><tr><td>2014</td><td>Short-Sleeve Classic Jersey- L</td><td>324</td><td>6732.0</td><td>-6408.0</td><td>Below Avg</td><td>19764</td><td>-19440</td><td>Decrease</td></tr><tr><td>2012</td><td>Short-Sleeve Classic Jersey- M</td><td>54</td><td>7326.0</td><td>-7272.0</td><td>Below Avg</td><td>null</td><td>null</td><td>No Change</td></tr><tr><td>2013</td><td>Short-Sleeve Classic Jersey- M</td><td>20790</td><td>7326.0</td><td>13464.0</td><td>Above Avg</td><td>54</td><td>20736</td><td>Increase</td></tr><tr><td>2014</td><td>Short-Sleeve Classic Jersey- M</td><td>1134</td><td>7326.0</td><td>-6192.0</td><td>Below Avg</td><td>20790</td><td>-19656</td><td>Decrease</td></tr><tr><td>2012</td><td>Short-Sleeve Classic Jersey- S</td><td>54</td><td>7308.0</td><td>-7254.0</td><td>Below Avg</td><td>null</td><td>null</td><td>No Change</td></tr><tr><td>2013</td><td>Short-Sleeve Classic Jersey- S</td><td>21384</td><td>7308.0</td><td>14076.0</td><td>Above Avg</td><td>54</td><td>21330</td><td>Increase</td></tr><tr><td>2014</td><td>Short-Sleeve Classic Jersey- S</td><td>486</td><td>7308.0</td><td>-6822.0</td><td>Below Avg</td><td>21384</td><td>-20898</td><td>Decrease</td></tr><tr><td>2013</td><td>Short-Sleeve Classic Jersey- XL</td><td>21168</td><td>11043.0</td><td>10125.0</td><td>Above Avg</td><td>null</td><td>null</td><td>No Change</td></tr><tr><td>2014</td><td>Short-Sleeve Classic Jersey- XL</td><td>918</td><td>11043.0</td><td>-10125.0</td><td>Below Avg</td><td>21168</td><td>-20250</td><td>Decrease</td></tr><tr><td>2012</td><td>Sport-100 Helmet- Black</td><td>210</td><td>24325.0</td><td>-24115.0</td><td>Below Avg</td><td>null</td><td>null</td><td>No Change</td></tr><tr><td>2013</td><td>Sport-100 Helmet- Black</td><td>69895</td><td>24325.0</td><td>45570.0</td><td>Above Avg</td><td>210</td><td>69685</td><td>Increase</td></tr><tr><td>2014</td><td>Sport-100 Helmet- Black</td><td>2870</td><td>24325.0</td><td>-21455.0</td><td>Below Avg</td><td>69895</td><td>-67025</td><td>Decrease</td></tr><tr><td>2012</td><td>Sport-100 Helmet- Blue</td><td>350</td><td>24791.666666666668</td><td>-24441.666666666668</td><td>Below Avg</td><td>null</td><td>null</td><td>No Change</td></tr><tr><td>2013</td><td>Sport-100 Helmet- Blue</td><td>71050</td><td>24791.666666666668</td><td>46258.33333333333</td><td>Above Avg</td><td>350</td><td>70700</td><td>Increase</td></tr><tr><td>2014</td><td>Sport-100 Helmet- Blue</td><td>2975</td><td>24791.666666666668</td><td>-21816.666666666668</td><td>Below Avg</td><td>71050</td><td>-68075</td><td>Decrease</td></tr><tr><td>2012</td><td>Sport-100 Helmet- Red</td><td>350</td><td>26016.666666666668</td><td>-25666.666666666668</td><td>Below Avg</td><td>null</td><td>null</td><td>No Change</td></tr><tr><td>2013</td><td>Sport-100 Helmet- Red</td><td>75145</td><td>26016.666666666668</td><td>49128.33333333333</td><td>Above Avg</td><td>350</td><td>74795</td><td>Increase</td></tr><tr><td>2014</td><td>Sport-100 Helmet- Red</td><td>2555</td><td>26016.666666666668</td><td>-23461.666666666668</td><td>Below Avg</td><td>75145</td><td>-72590</td><td>Decrease</td></tr><tr><td>2012</td><td>Touring Tire</td><td>58</td><td>9038.333333333334</td><td>-8980.333333333334</td><td>Below Avg</td><td>null</td><td>null</td><td>No Change</td></tr><tr><td>2013</td><td>Touring Tire</td><td>25607</td><td>9038.333333333334</td><td>16568.666666666664</td><td>Above Avg</td><td>58</td><td>25549</td><td>Increase</td></tr><tr><td>2014</td><td>Touring Tire</td><td>1450</td><td>9038.333333333334</td><td>-7588.333333333334</td><td>Below Avg</td><td>25607</td><td>-24157</td><td>Decrease</td></tr><tr><td>2012</td><td>Touring Tire Tube</td><td>10</td><td>2478.3333333333335</td><td>-2468.3333333333335</td><td>Below Avg</td><td>null</td><td>null</td><td>No Change</td></tr><tr><td>2013</td><td>Touring Tire Tube</td><td>7010</td><td>2478.3333333333335</td><td>4531.666666666666</td><td>Above Avg</td><td>10</td><td>7000</td><td>Increase</td></tr><tr><td>2014</td><td>Touring Tire Tube</td><td>415</td><td>2478.3333333333335</td><td>-2063.3333333333335</td><td>Below Avg</td><td>7010</td><td>-6595</td><td>Decrease</td></tr><tr><td>2012</td><td>Touring-1000 Blue- 46</td><td>4768</td><td>210984.0</td><td>-206216.0</td><td>Below Avg</td><td>null</td><td>null</td><td>No Change</td></tr><tr><td>2013</td><td>Touring-1000 Blue- 46</td><td>417200</td><td>210984.0</td><td>206216.0</td><td>Above Avg</td><td>4768</td><td>412432</td><td>Increase</td></tr><tr><td>2012</td><td>Touring-1000 Blue- 50</td><td>2384</td><td>178800.0</td><td>-176416.0</td><td>Below Avg</td><td>null</td><td>null</td><td>No Change</td></tr><tr><td>2013</td><td>Touring-1000 Blue- 50</td><td>355216</td><td>178800.0</td><td>176416.0</td><td>Above Avg</td><td>2384</td><td>352832</td><td>Increase</td></tr><tr><td>2013</td><td>Touring-1000 Blue- 54</td><td>381440</td><td>381440.0</td><td>0.0</td><td>Avg</td><td>null</td><td>null</td><td>No Change</td></tr><tr><td>2012</td><td>Touring-1000 Blue- 60</td><td>2384</td><td>175224.0</td><td>-172840.0</td><td>Below Avg</td><td>null</td><td>null</td><td>No Change</td></tr><tr><td>2013</td><td>Touring-1000 Blue- 60</td><td>348064</td><td>175224.0</td><td>172840.0</td><td>Above Avg</td><td>2384</td><td>345680</td><td>Increase</td></tr><tr><td>2013</td><td>Touring-1000 Yellow- 46</td><td>410048</td><td>410048.0</td><td>0.0</td><td>Avg</td><td>null</td><td>null</td><td>No Change</td></tr><tr><td>2012</td><td>Touring-1000 Yellow- 50</td><td>4768</td><td>179992.0</td><td>-175224.0</td><td>Below Avg</td><td>null</td><td>null</td><td>No Change</td></tr><tr><td>2013</td><td>Touring-1000 Yellow- 50</td><td>355216</td><td>179992.0</td><td>175224.0</td><td>Above Avg</td><td>4768</td><td>350448</td><td>Increase</td></tr><tr><td>2013</td><td>Touring-1000 Yellow- 54</td><td>376672</td><td>376672.0</td><td>0.0</td><td>Avg</td><td>null</td><td>null</td><td>No Change</td></tr><tr><td>2013</td><td>Touring-1000 Yellow- 60</td><td>333760</td><td>333760.0</td><td>0.0</td><td>Avg</td><td>null</td><td>null</td><td>No Change</td></tr><tr><td>2012</td><td>Touring-2000 Blue- 46</td><td>2430</td><td>58927.5</td><td>-56497.5</td><td>Below Avg</td><td>null</td><td>null</td><td>No Change</td></tr><tr><td>2013</td><td>Touring-2000 Blue- 46</td><td>115425</td><td>58927.5</td><td>56497.5</td><td>Above Avg</td><td>2430</td><td>112995</td><td>Increase</td></tr><tr><td>2012</td><td>Touring-2000 Blue- 50</td><td>1215</td><td>64395.0</td><td>-63180.0</td><td>Below Avg</td><td>null</td><td>null</td><td>No Change</td></tr><tr><td>2013</td><td>Touring-2000 Blue- 50</td><td>127575</td><td>64395.0</td><td>63180.0</td><td>Above Avg</td><td>1215</td><td>126360</td><td>Increase</td></tr><tr><td>2013</td><td>Touring-2000 Blue- 54</td><td>106920</td><td>106920.0</td><td>0.0</td><td>Avg</td><td>null</td><td>null</td><td>No Change</td></tr><tr><td>2012</td><td>Touring-2000 Blue- 60</td><td>1215</td><td>49207.5</td><td>-47992.5</td><td>Below Avg</td><td>null</td><td>null</td><td>No Change</td></tr><tr><td>2013</td><td>Touring-2000 Blue- 60</td><td>97200</td><td>49207.5</td><td>47992.5</td><td>Above Avg</td><td>1215</td><td>95985</td><td>Increase</td></tr><tr><td>2013</td><td>Touring-3000 Blue- 44</td><td>39326</td><td>39326.0</td><td>0.0</td><td>Avg</td><td>null</td><td>null</td><td>No Change</td></tr><tr><td>2013</td><td>Touring-3000 Blue- 50</td><td>35616</td><td>35616.0</td><td>0.0</td><td>Avg</td><td>null</td><td>null</td><td>No Change</td></tr><tr><td>2012</td><td>Touring-3000 Blue- 54</td><td>742</td><td>20405.0</td><td>-19663.0</td><td>Below Avg</td><td>null</td><td>null</td><td>No Change</td></tr><tr><td>2013</td><td>Touring-3000 Blue- 54</td><td>40068</td><td>20405.0</td><td>19663.0</td><td>Above Avg</td><td>742</td><td>39326</td><td>Increase</td></tr><tr><td>2013</td><td>Touring-3000 Blue- 58</td><td>42294</td><td>42294.0</td><td>0.0</td><td>Avg</td><td>null</td><td>null</td><td>No Change</td></tr><tr><td>2013</td><td>Touring-3000 Blue- 62</td><td>47488</td><td>47488.0</td><td>0.0</td><td>Avg</td><td>null</td><td>null</td><td>No Change</td></tr><tr><td>2013</td><td>Touring-3000 Yellow- 44</td><td>43778</td><td>43778.0</td><td>0.0</td><td>Avg</td><td>null</td><td>null</td><td>No Change</td></tr><tr><td>2013</td><td>Touring-3000 Yellow- 50</td><td>43778</td><td>43778.0</td><td>0.0</td><td>Avg</td><td>null</td><td>null</td><td>No Change</td></tr><tr><td>2013</td><td>Touring-3000 Yellow- 54</td><td>35616</td><td>35616.0</td><td>0.0</td><td>Avg</td><td>null</td><td>null</td><td>No Change</td></tr><tr><td>2012</td><td>Touring-3000 Yellow- 58</td><td>1484</td><td>17437.0</td><td>-15953.0</td><td>Below Avg</td><td>null</td><td>null</td><td>No Change</td></tr><tr><td>2013</td><td>Touring-3000 Yellow- 58</td><td>33390</td><td>17437.0</td><td>15953.0</td><td>Above Avg</td><td>1484</td><td>31906</td><td>Increase</td></tr><tr><td>2013</td><td>Touring-3000 Yellow- 62</td><td>37100</td><td>37100.0</td><td>0.0</td><td>Avg</td><td>null</td><td>null</td><td>No Change</td></tr><tr><td>2012</td><td>Water Bottle - 30 oz.</td><td>90</td><td>7081.666666666667</td><td>-6991.666666666667</td><td>Below Avg</td><td>null</td><td>null</td><td>No Change</td></tr><tr><td>2013</td><td>Water Bottle - 30 oz.</td><td>20425</td><td>7081.666666666667</td><td>13343.333333333332</td><td>Above Avg</td><td>90</td><td>20335</td><td>Increase</td></tr><tr><td>2014</td><td>Water Bottle - 30 oz.</td><td>730</td><td>7081.666666666667</td><td>-6351.666666666667</td><td>Below Avg</td><td>20425</td><td>-19695</td><td>Decrease</td></tr><tr><td>2013</td><td>Women's Mountain Shorts- L</td><td>23800</td><td>12705.0</td><td>11095.0</td><td>Above Avg</td><td>null</td><td>null</td><td>No Change</td></tr><tr><td>2014</td><td>Women's Mountain Shorts- L</td><td>1610</td><td>12705.0</td><td>-11095.0</td><td>Below Avg</td><td>23800</td><td>-22190</td><td>Decrease</td></tr><tr><td>2013</td><td>Women's Mountain Shorts- M</td><td>23380</td><td>12320.0</td><td>11060.0</td><td>Above Avg</td><td>null</td><td>null</td><td>No Change</td></tr><tr><td>2014</td><td>Women's Mountain Shorts- M</td><td>1260</td><td>12320.0</td><td>-11060.0</td><td>Below Avg</td><td>23380</td><td>-22120</td><td>Decrease</td></tr><tr><td>2013</td><td>Women's Mountain Shorts- S</td><td>20230</td><td>10640.0</td><td>9590.0</td><td>Above Avg</td><td>null</td><td>null</td><td>No Change</td></tr><tr><td>2014</td><td>Women's Mountain Shorts- S</td><td>1050</td><td>10640.0</td><td>-9590.0</td><td>Below Avg</td><td>20230</td><td>-19180</td><td>Decrease</td></tr></tbody></table></div>"
      ]
     },
     "metadata": {
      "application/vnd.databricks.v1+output": {
       "addedWidgets": {},
       "aggData": [],
       "aggError": "",
       "aggOverflow": false,
       "aggSchema": [],
       "aggSeriesLimitReached": false,
       "aggType": "",
       "arguments": {},
       "columnCustomDisplayInfos": {},
       "data": [
        [
         2012,
         "AWC Logo Cap",
         72,
         6570.0,
         -6498.0,
         "Below Avg",
         null,
         null,
         "No Change"
        ],
        [
         2013,
         "AWC Logo Cap",
         18891,
         6570.0,
         12321.0,
         "Above Avg",
         72,
         18819,
         "Increase"
        ],
        [
         2014,
         "AWC Logo Cap",
         747,
         6570.0,
         -5823.0,
         "Below Avg",
         18891,
         -18144,
         "Decrease"
        ],
        [
         2012,
         "All-Purpose Bike Stand",
         159,
         13197.0,
         -13038.0,
         "Below Avg",
         null,
         null,
         "No Change"
        ],
        [
         2013,
         "All-Purpose Bike Stand",
         37683,
         13197.0,
         24486.0,
         "Above Avg",
         159,
         37524,
         "Increase"
        ],
        [
         2014,
         "All-Purpose Bike Stand",
         1749,
         13197.0,
         -11448.0,
         "Below Avg",
         37683,
         -35934,
         "Decrease"
        ],
        [
         2013,
         "Bike Wash - Dissolver",
         6960,
         3636.0,
         3324.0,
         "Above Avg",
         null,
         null,
         "No Change"
        ],
        [
         2014,
         "Bike Wash - Dissolver",
         312,
         3636.0,
         -3324.0,
         "Below Avg",
         6960,
         -6648,
         "Decrease"
        ],
        [
         2013,
         "Classic Vest- L",
         11968,
         6240.0,
         5728.0,
         "Above Avg",
         null,
         null,
         "No Change"
        ],
        [
         2014,
         "Classic Vest- L",
         512,
         6240.0,
         -5728.0,
         "Below Avg",
         11968,
         -11456,
         "Decrease"
        ],
        [
         2013,
         "Classic Vest- M",
         11840,
         6368.0,
         5472.0,
         "Above Avg",
         null,
         null,
         "No Change"
        ],
        [
         2014,
         "Classic Vest- M",
         896,
         6368.0,
         -5472.0,
         "Below Avg",
         11840,
         -10944,
         "Decrease"
        ],
        [
         2012,
         "Classic Vest- S",
         64,
         3648.0,
         -3584.0,
         "Below Avg",
         null,
         null,
         "No Change"
        ],
        [
         2013,
         "Classic Vest- S",
         10368,
         3648.0,
         6720.0,
         "Above Avg",
         64,
         10304,
         "Increase"
        ],
        [
         2014,
         "Classic Vest- S",
         512,
         3648.0,
         -3136.0,
         "Below Avg",
         10368,
         -9856,
         "Decrease"
        ],
        [
         2012,
         "Fender Set - Mountain",
         110,
         15554.0,
         -15444.0,
         "Below Avg",
         null,
         null,
         "No Change"
        ],
        [
         2013,
         "Fender Set - Mountain",
         44484,
         15554.0,
         28930.0,
         "Above Avg",
         110,
         44374,
         "Increase"
        ],
        [
         2014,
         "Fender Set - Mountain",
         2068,
         15554.0,
         -13486.0,
         "Below Avg",
         44484,
         -42416,
         "Decrease"
        ],
        [
         2012,
         "HL Mountain Tire",
         140,
         16286.666666666666,
         -16146.666666666666,
         "Below Avg",
         null,
         null,
         "No Change"
        ],
        [
         2013,
         "HL Mountain Tire",
         46935,
         16286.666666666666,
         30648.333333333336,
         "Above Avg",
         140,
         46795,
         "Increase"
        ],
        [
         2014,
         "HL Mountain Tire",
         1785,
         16286.666666666666,
         -14501.666666666666,
         "Below Avg",
         46935,
         -45150,
         "Decrease"
        ],
        [
         2012,
         "HL Road Tire",
         132,
         9438.0,
         -9306.0,
         "Below Avg",
         null,
         null,
         "No Change"
        ],
        [
         2013,
         "HL Road Tire",
         26532,
         9438.0,
         17094.0,
         "Above Avg",
         132,
         26400,
         "Increase"
        ],
        [
         2014,
         "HL Road Tire",
         1650,
         9438.0,
         -7788.0,
         "Below Avg",
         26532,
         -24882,
         "Decrease"
        ],
        [
         2012,
         "Half-Finger Gloves- L",
         24,
         3544.0,
         -3520.0,
         "Below Avg",
         null,
         null,
         "No Change"
        ],
        [
         2013,
         "Half-Finger Gloves- L",
         10248,
         3544.0,
         6704.0,
         "Above Avg",
         24,
         10224,
         "Increase"
        ],
        [
         2014,
         "Half-Finger Gloves- L",
         360,
         3544.0,
         -3184.0,
         "Below Avg",
         10248,
         -9888,
         "Decrease"
        ],
        [
         2012,
         "Half-Finger Gloves- M",
         24,
         3992.0,
         -3968.0,
         "Below Avg",
         null,
         null,
         "No Change"
        ],
        [
         2013,
         "Half-Finger Gloves- M",
         11376,
         3992.0,
         7384.0,
         "Above Avg",
         24,
         11352,
         "Increase"
        ],
        [
         2014,
         "Half-Finger Gloves- M",
         576,
         3992.0,
         -3416.0,
         "Below Avg",
         11376,
         -10800,
         "Decrease"
        ],
        [
         2012,
         "Half-Finger Gloves- S",
         24,
         3896.0,
         -3872.0,
         "Below Avg",
         null,
         null,
         "No Change"
        ],
        [
         2013,
         "Half-Finger Gloves- S",
         11064,
         3896.0,
         7168.0,
         "Above Avg",
         24,
         11040,
         "Increase"
        ],
        [
         2014,
         "Half-Finger Gloves- S",
         600,
         3896.0,
         -3296.0,
         "Below Avg",
         11064,
         -10464,
         "Decrease"
        ],
        [
         2013,
         "Hitch Rack - 4-Bike",
         36840,
         19620.0,
         17220.0,
         "Above Avg",
         null,
         null,
         "No Change"
        ],
        [
         2014,
         "Hitch Rack - 4-Bike",
         2400,
         19620.0,
         -17220.0,
         "Below Avg",
         36840,
         -34440,
         "Decrease"
        ],
        [
         2012,
         "Hydration Pack - 70 oz.",
         110,
         13438.333333333334,
         -13328.333333333334,
         "Below Avg",
         null,
         null,
         "No Change"
        ],
        [
         2013,
         "Hydration Pack - 70 oz.",
         38940,
         13438.333333333334,
         25501.666666666664,
         "Above Avg",
         110,
         38830,
         "Increase"
        ],
        [
         2014,
         "Hydration Pack - 70 oz.",
         1265,
         13438.333333333334,
         -12173.333333333334,
         "Below Avg",
         38940,
         -37675,
         "Decrease"
        ],
        [
         2013,
         "LL Mountain Tire",
         20125,
         10775.0,
         9350.0,
         "Above Avg",
         null,
         null,
         "No Change"
        ],
        [
         2014,
         "LL Mountain Tire",
         1425,
         10775.0,
         -9350.0,
         "Below Avg",
         20125,
         -18700,
         "Decrease"
        ],
        [
         2012,
         "LL Road Tire",
         105,
         7301.0,
         -7196.0,
         "Below Avg",
         null,
         null,
         "No Change"
        ],
        [
         2013,
         "LL Road Tire",
         20622,
         7301.0,
         13321.0,
         "Above Avg",
         105,
         20517,
         "Increase"
        ],
        [
         2014,
         "LL Road Tire",
         1176,
         7301.0,
         -6125.0,
         "Below Avg",
         20622,
         -19446,
         "Decrease"
        ],
        [
         2012,
         "Long-Sleeve Logo Jersey- L",
         150,
         7550.0,
         -7400.0,
         "Below Avg",
         null,
         null,
         "No Change"
        ],
        [
         2013,
         "Long-Sleeve Logo Jersey- L",
         21550,
         7550.0,
         14000.0,
         "Above Avg",
         150,
         21400,
         "Increase"
        ],
        [
         2014,
         "Long-Sleeve Logo Jersey- L",
         950,
         7550.0,
         -6600.0,
         "Below Avg",
         21550,
         -20600,
         "Decrease"
        ],
        [
         2012,
         "Long-Sleeve Logo Jersey- M",
         50,
         7366.666666666667,
         -7316.666666666667,
         "Below Avg",
         null,
         null,
         "No Change"
        ],
        [
         2013,
         "Long-Sleeve Logo Jersey- M",
         20850,
         7366.666666666667,
         13483.333333333332,
         "Above Avg",
         50,
         20800,
         "Increase"
        ],
        [
         2014,
         "Long-Sleeve Logo Jersey- M",
         1200,
         7366.666666666667,
         -6166.666666666667,
         "Below Avg",
         20850,
         -19650,
         "Decrease"
        ],
        [
         2013,
         "Long-Sleeve Logo Jersey- S",
         20350,
         10725.0,
         9625.0,
         "Above Avg",
         null,
         null,
         "No Change"
        ],
        [
         2014,
         "Long-Sleeve Logo Jersey- S",
         1100,
         10725.0,
         -9625.0,
         "Below Avg",
         20350,
         -19250,
         "Decrease"
        ],
        [
         2013,
         "Long-Sleeve Logo Jersey- XL",
         19850,
         10350.0,
         9500.0,
         "Above Avg",
         null,
         null,
         "No Change"
        ],
        [
         2014,
         "Long-Sleeve Logo Jersey- XL",
         850,
         10350.0,
         -9500.0,
         "Below Avg",
         19850,
         -19000,
         "Decrease"
        ],
        [
         2012,
         "ML Mountain Tire",
         30,
         11600.0,
         -11570.0,
         "Below Avg",
         null,
         null,
         "No Change"
        ],
        [
         2013,
         "ML Mountain Tire",
         32580,
         11600.0,
         20980.0,
         "Above Avg",
         30,
         32550,
         "Increase"
        ],
        [
         2014,
         "ML Mountain Tire",
         2190,
         11600.0,
         -9410.0,
         "Below Avg",
         32580,
         -30390,
         "Decrease"
        ],
        [
         2012,
         "ML Road Tire",
         50,
         7708.333333333333,
         -7658.333333333333,
         "Below Avg",
         null,
         null,
         "No Change"
        ],
        [
         2013,
         "ML Road Tire",
         22275,
         7708.333333333333,
         14566.666666666668,
         "Above Avg",
         50,
         22225,
         "Increase"
        ],
        [
         2014,
         "ML Road Tire",
         800,
         7708.333333333333,
         -6908.333333333333,
         "Below Avg",
         22275,
         -21475,
         "Decrease"
        ],
        [
         2012,
         "Mountain Bottle Cage",
         110,
         6780.0,
         -6670.0,
         "Below Avg",
         null,
         null,
         "No Change"
        ],
        [
         2013,
         "Mountain Bottle Cage",
         19530,
         6780.0,
         12750.0,
         "Above Avg",
         110,
         19420,
         "Increase"
        ],
        [
         2014,
         "Mountain Bottle Cage",
         700,
         6780.0,
         -6080.0,
         "Below Avg",
         19530,
         -18830,
         "Decrease"
        ],
        [
         2012,
         "Mountain Tire Tube",
         15,
         5155.0,
         -5140.0,
         "Below Avg",
         null,
         null,
         "No Change"
        ],
        [
         2013,
         "Mountain Tire Tube",
         14620,
         5155.0,
         9465.0,
         "Above Avg",
         15,
         14605,
         "Increase"
        ],
        [
         2014,
         "Mountain Tire Tube",
         830,
         5155.0,
         -4325.0,
         "Below Avg",
         14620,
         -13790,
         "Decrease"
        ],
        [
         2011,
         "Mountain-100 Black- 38",
         165375,
         165375.0,
         0.0,
         "Avg",
         null,
         null,
         "No Change"
        ],
        [
         2011,
         "Mountain-100 Black- 42",
         151875,
         151875.0,
         0.0,
         "Avg",
         null,
         null,
         "No Change"
        ],
        [
         2011,
         "Mountain-100 Black- 44",
         202500,
         202500.0,
         0.0,
         "Avg",
         null,
         null,
         "No Change"
        ],
        [
         2010,
         "Mountain-100 Black- 48",
         3375,
         96187.5,
         -92812.5,
         "Below Avg",
         null,
         null,
         "No Change"
        ],
        [
         2011,
         "Mountain-100 Black- 48",
         189000,
         96187.5,
         92812.5,
         "Above Avg",
         3375,
         185625,
         "Increase"
        ],
        [
         2010,
         "Mountain-100 Silver- 38",
         3400,
         98600.0,
         -95200.0,
         "Below Avg",
         null,
         null,
         "No Change"
        ],
        [
         2011,
         "Mountain-100 Silver- 38",
         193800,
         98600.0,
         95200.0,
         "Above Avg",
         3400,
         190400,
         "Increase"
        ],
        [
         2011,
         "Mountain-100 Silver- 42",
         142800,
         142800.0,
         0.0,
         "Avg",
         null,
         null,
         "No Change"
        ],
        [
         2010,
         "Mountain-100 Silver- 44",
         10200,
         83300.0,
         -73100.0,
         "Below Avg",
         null,
         null,
         "No Change"
        ],
        [
         2011,
         "Mountain-100 Silver- 44",
         156400,
         83300.0,
         73100.0,
         "Above Avg",
         10200,
         146200,
         "Increase"
        ],
        [
         2011,
         "Mountain-100 Silver- 48",
         122400,
         122400.0,
         0.0,
         "Avg",
         null,
         null,
         "No Change"
        ],
        [
         2011,
         "Mountain-200 Black- 38",
         4098,
         430853.0,
         -426755.0,
         "Below Avg",
         null,
         null,
         "No Change"
        ],
        [
         2012,
         "Mountain-200 Black- 38",
         342921,
         430853.0,
         -87932.0,
         "Below Avg",
         4098,
         338823,
         "Increase"
        ],
        [
         2013,
         "Mountain-200 Black- 38",
         945540,
         430853.0,
         514687.0,
         "Above Avg",
         342921,
         602619,
         "Increase"
        ],
        [
         2012,
         "Mountain-200 Black- 42",
         392343,
         681564.0,
         -289221.0,
         "Below Avg",
         null,
         null,
         "No Change"
        ],
        [
         2013,
         "Mountain-200 Black- 42",
         970785,
         681564.0,
         289221.0,
         "Above Avg",
         392343,
         578442,
         "Increase"
        ],
        [
         2011,
         "Mountain-200 Black- 46",
         2049,
         457818.0,
         -455769.0,
         "Below Avg",
         null,
         null,
         "No Change"
        ],
        [
         2012,
         "Mountain-200 Black- 46",
         423570,
         457818.0,
         -34248.0,
         "Below Avg",
         2049,
         421521,
         "Increase"
        ],
        [
         2013,
         "Mountain-200 Black- 46",
         947835,
         457818.0,
         490017.0,
         "Above Avg",
         423570,
         524265,
         "Increase"
        ],
        [
         2012,
         "Mountain-200 Silver- 38",
         371954,
         669697.0,
         -297743.0,
         "Below Avg",
         null,
         null,
         "No Change"
        ],
        [
         2013,
         "Mountain-200 Silver- 38",
         967440,
         669697.0,
         297743.0,
         "Above Avg",
         371954,
         595486,
         "Increase"
        ],
        [
         2011,
         "Mountain-200 Silver- 42",
         2071,
         419122.6666666667,
         -417051.6666666667,
         "Below Avg",
         null,
         null,
         "No Change"
        ],
        [
         2012,
         "Mountain-200 Silver- 42",
         352817,
         419122.6666666667,
         -66305.66666666669,
         "Below Avg",
         2071,
         350746,
         "Increase"
        ],
        [
         2013,
         "Mountain-200 Silver- 42",
         902480,
         419122.6666666667,
         483357.3333333333,
         "Above Avg",
         352817,
         549663,
         "Increase"
        ],
        [
         2012,
         "Mountain-200 Silver- 46",
         377669,
         649354.5,
         -271685.5,
         "Below Avg",
         null,
         null,
         "No Change"
        ],
        [
         2013,
         "Mountain-200 Silver- 46",
         921040,
         649354.5,
         271685.5,
         "Above Avg",
         377669,
         543371,
         "Increase"
        ],
        [
         2013,
         "Mountain-400-W Silver- 38",
         113812,
         113812.0,
         0.0,
         "Avg",
         null,
         null,
         "No Change"
        ],
        [
         2012,
         "Mountain-400-W Silver- 40",
         769,
         49216.0,
         -48447.0,
         "Below Avg",
         null,
         null,
         "No Change"
        ],
        [
         2013,
         "Mountain-400-W Silver- 40",
         97663,
         49216.0,
         48447.0,
         "Above Avg",
         769,
         96894,
         "Increase"
        ],
        [
         2013,
         "Mountain-400-W Silver- 42",
         99201,
         99201.0,
         0.0,
         "Avg",
         null,
         null,
         "No Change"
        ],
        [
         2013,
         "Mountain-400-W Silver- 46",
         106122,
         106122.0,
         0.0,
         "Avg",
         null,
         null,
         "No Change"
        ],
        [
         2012,
         "Mountain-500 Black- 40",
         540,
         12960.0,
         -12420.0,
         "Below Avg",
         null,
         null,
         "No Change"
        ],
        [
         2013,
         "Mountain-500 Black- 40",
         25380,
         12960.0,
         12420.0,
         "Above Avg",
         540,
         24840,
         "Increase"
        ],
        [
         2013,
         "Mountain-500 Black- 42",
         26460,
         26460.0,
         0.0,
         "Avg",
         null,
         null,
         "No Change"
        ],
        [
         2013,
         "Mountain-500 Black- 44",
         31320,
         31320.0,
         0.0,
         "Avg",
         null,
         null,
         "No Change"
        ],
        [
         2013,
         "Mountain-500 Black- 48",
         30240,
         30240.0,
         0.0,
         "Avg",
         null,
         null,
         "No Change"
        ],
        [
         2013,
         "Mountain-500 Black- 52",
         22140,
         22140.0,
         0.0,
         "Avg",
         null,
         null,
         "No Change"
        ],
        [
         2013,
         "Mountain-500 Silver- 40",
         25425,
         25425.0,
         0.0,
         "Avg",
         null,
         null,
         "No Change"
        ],
        [
         2013,
         "Mountain-500 Silver- 42",
         25425,
         25425.0,
         0.0,
         "Avg",
         null,
         null,
         "No Change"
        ],
        [
         2012,
         "Mountain-500 Silver- 44",
         565,
         11017.5,
         -10452.5,
         "Below Avg",
         null,
         null,
         "No Change"
        ],
        [
         2013,
         "Mountain-500 Silver- 44",
         21470,
         11017.5,
         10452.5,
         "Above Avg",
         565,
         20905,
         "Increase"
        ],
        [
         2013,
         "Mountain-500 Silver- 48",
         28250,
         28250.0,
         0.0,
         "Avg",
         null,
         null,
         "No Change"
        ],
        [
         2013,
         "Mountain-500 Silver- 52",
         27120,
         27120.0,
         0.0,
         "Avg",
         null,
         null,
         "No Change"
        ],
        [
         2012,
         "Patch Kit/8 Patches",
         8,
         2126.0,
         -2118.0,
         "Below Avg",
         null,
         null,
         "No Change"
        ],
        [
         2013,
         "Patch Kit/8 Patches",
         6048,
         2126.0,
         3922.0,
         "Above Avg",
         8,
         6040,
         "Increase"
        ],
        [
         2014,
         "Patch Kit/8 Patches",
         322,
         2126.0,
         -1804.0,
         "Below Avg",
         6048,
         -5726,
         "Decrease"
        ],
        [
         2012,
         "Racing Socks- L",
         18,
         810.0,
         -792.0,
         "Below Avg",
         null,
         null,
         "No Change"
        ],
        [
         2013,
         "Racing Socks- L",
         2340,
         810.0,
         1530.0,
         "Above Avg",
         18,
         2322,
         "Increase"
        ],
        [
         2014,
         "Racing Socks- L",
         72,
         810.0,
         -738.0,
         "Below Avg",
         2340,
         -2268,
         "Decrease"
        ],
        [
         2013,
         "Racing Socks- M",
         2529,
         1341.0,
         1188.0,
         "Above Avg",
         null,
         null,
         "No Change"
        ],
        [
         2014,
         "Racing Socks- M",
         153,
         1341.0,
         -1188.0,
         "Below Avg",
         2529,
         -2376,
         "Decrease"
        ],
        [
         2012,
         "Road Bottle Cage",
         81,
         5133.0,
         -5052.0,
         "Below Avg",
         null,
         null,
         "No Change"
        ],
        [
         2013,
         "Road Bottle Cage",
         15237,
         5133.0,
         10104.0,
         "Above Avg",
         81,
         15156,
         "Increase"
        ],
        [
         2014,
         "Road Bottle Cage",
         81,
         5133.0,
         -5052.0,
         "Below Avg",
         15237,
         -15156,
         "Decrease"
        ],
        [
         2012,
         "Road Tire Tube",
         28,
         3166.6666666666665,
         -3138.6666666666665,
         "Below Avg",
         null,
         null,
         "No Change"
        ],
        [
         2013,
         "Road Tire Tube",
         8888,
         3166.6666666666665,
         5721.333333333334,
         "Above Avg",
         28,
         8860,
         "Increase"
        ],
        [
         2014,
         "Road Tire Tube",
         584,
         3166.6666666666665,
         -2582.6666666666665,
         "Below Avg",
         8888,
         -8304,
         "Decrease"
        ],
        [
         2010,
         "Road-150 Red- 44",
         3578,
         502709.0,
         -499131.0,
         "Below Avg",
         null,
         null,
         "No Change"
        ],
        [
         2011,
         "Road-150 Red- 44",
         1001840,
         502709.0,
         499131.0,
         "Above Avg",
         3578,
         998262,
         "Increase"
        ],
        [
         2010,
         "Road-150 Red- 48",
         7156,
         602893.0,
         -595737.0,
         "Below Avg",
         null,
         null,
         "No Change"
        ],
        [
         2011,
         "Road-150 Red- 48",
         1198630,
         602893.0,
         595737.0,
         "Above Avg",
         7156,
         1191474,
         "Increase"
        ],
        [
         2010,
         "Road-150 Red- 52",
         3578,
         540278.0,
         -536700.0,
         "Below Avg",
         null,
         null,
         "No Change"
        ],
        [
         2011,
         "Road-150 Red- 52",
         1076978,
         540278.0,
         536700.0,
         "Above Avg",
         3578,
         1073400,
         "Increase"
        ],
        [
         2010,
         "Road-150 Red- 56",
         3578,
         527755.0,
         -524177.0,
         "Below Avg",
         null,
         null,
         "No Change"
        ],
        [
         2011,
         "Road-150 Red- 56",
         1051932,
         527755.0,
         524177.0,
         "Above Avg",
         3578,
         1048354,
         "Increase"
        ],
        [
         2010,
         "Road-150 Red- 62",
         7156,
         601104.0,
         -593948.0,
         "Below Avg",
         null,
         null,
         "No Change"
        ],
        [
         2011,
         "Road-150 Red- 62",
         1195052,
         601104.0,
         593948.0,
         "Above Avg",
         7156,
         1187896,
         "Increase"
        ],
        [
         2011,
         "Road-250 Black- 44",
         6546,
         209461.33333333334,
         -202915.33333333334,
         "Below Avg",
         null,
         null,
         "No Change"
        ],
        [
         2012,
         "Road-250 Black- 44",
         279818,
         209461.33333333334,
         70356.66666666666,
         "Above Avg",
         6546,
         273272,
         "Increase"
        ],
        [
         2013,
         "Road-250 Black- 44",
         342020,
         209461.33333333334,
         132558.66666666666,
         "Above Avg",
         279818,
         62202,
         "Increase"
        ],
        [
         2012,
         "Road-250 Black- 48",
         310105,
         345606.5,
         -35501.5,
         "Below Avg",
         null,
         null,
         "No Change"
        ],
        [
         2013,
         "Road-250 Black- 48",
         381108,
         345606.5,
         35501.5,
         "Above Avg",
         310105,
         71003,
         "Increase"
        ],
        [
         2011,
         "Road-250 Black- 52",
         4364,
         244808.33333333334,
         -240444.33333333334,
         "Below Avg",
         null,
         null,
         "No Change"
        ],
        [
         2012,
         "Road-250 Black- 52",
         378269,
         244808.33333333334,
         133460.66666666666,
         "Above Avg",
         4364,
         373905,
         "Increase"
        ],
        [
         2013,
         "Road-250 Black- 52",
         351792,
         244808.33333333334,
         106983.66666666666,
         "Above Avg",
         378269,
         -26477,
         "Decrease"
        ],
        [
         2011,
         "Road-250 Black- 58",
         2182,
         207342.0,
         -205160.0,
         "Below Avg",
         null,
         null,
         "No Change"
        ],
        [
         2012,
         "Road-250 Black- 58",
         316912,
         207342.0,
         109570.0,
         "Above Avg",
         2182,
         314730,
         "Increase"
        ],
        [
         2013,
         "Road-250 Black- 58",
         302932,
         207342.0,
         95590.0,
         "Above Avg",
         316912,
         -13980,
         "Decrease"
        ],
        [
         2011,
         "Road-250 Red- 44",
         4886,
         175896.0,
         -171010.0,
         "Below Avg",
         null,
         null,
         "No Change"
        ],
        [
         2012,
         "Road-250 Red- 44",
         346906,
         175896.0,
         171010.0,
         "Above Avg",
         4886,
         342020,
         "Increase"
        ],
        [
         2011,
         "Road-250 Red- 48",
         7329,
         197883.0,
         -190554.0,
         "Below Avg",
         null,
         null,
         "No Change"
        ],
        [
         2012,
         "Road-250 Red- 48",
         388437,
         197883.0,
         190554.0,
         "Above Avg",
         7329,
         381108,
         "Increase"
        ],
        [
         2011,
         "Road-250 Red- 52",
         2443,
         162459.5,
         -160016.5,
         "Below Avg",
         null,
         null,
         "No Change"
        ],
        [
         2012,
         "Road-250 Red- 52",
         322476,
         162459.5,
         160016.5,
         "Above Avg",
         2443,
         320033,
         "Increase"
        ],
        [
         2011,
         "Road-250 Red- 58",
         6546,
         234222.0,
         -227676.0,
         "Below Avg",
         null,
         null,
         "No Change"
        ],
        [
         2012,
         "Road-250 Red- 58",
         376087,
         234222.0,
         141865.0,
         "Above Avg",
         6546,
         369541,
         "Increase"
        ],
        [
         2013,
         "Road-250 Red- 58",
         320033,
         234222.0,
         85811.0,
         "Above Avg",
         376087,
         -56054,
         "Decrease"
        ],
        [
         2012,
         "Road-350-W Yellow- 40",
         1701,
         209223.0,
         -207522.0,
         "Below Avg",
         null,
         null,
         "No Change"
        ],
        [
         2013,
         "Road-350-W Yellow- 40",
         416745,
         209223.0,
         207522.0,
         "Above Avg",
         1701,
         415044,
         "Increase"
        ],
        [
         2012,
         "Road-350-W Yellow- 42",
         5103,
         199867.5,
         -194764.5,
         "Below Avg",
         null,
         null,
         "No Change"
        ],
        [
         2013,
         "Road-350-W Yellow- 42",
         394632,
         199867.5,
         194764.5,
         "Above Avg",
         5103,
         389529,
         "Increase"
        ],
        [
         2013,
         "Road-350-W Yellow- 44",
         367416,
         367416.0,
         0.0,
         "Avg",
         null,
         null,
         "No Change"
        ],
        [
         2012,
         "Road-350-W Yellow- 48",
         1701,
         197316.0,
         -195615.0,
         "Below Avg",
         null,
         null,
         "No Change"
        ],
        [
         2013,
         "Road-350-W Yellow- 48",
         392931,
         197316.0,
         195615.0,
         "Above Avg",
         1701,
         391230,
         "Increase"
        ],
        [
         2011,
         "Road-550-W Yellow- 38",
         1000,
         97920.0,
         -96920.0,
         "Below Avg",
         null,
         null,
         "No Change"
        ],
        [
         2012,
         "Road-550-W Yellow- 38",
         71000,
         97920.0,
         -26920.0,
         "Below Avg",
         1000,
         70000,
         "Increase"
        ],
        [
         2013,
         "Road-550-W Yellow- 38",
         221760,
         97920.0,
         123840.0,
         "Above Avg",
         71000,
         150760,
         "Increase"
        ],
        [
         2012,
         "Road-550-W Yellow- 40",
         68120,
         144940.0,
         -76820.0,
         "Below Avg",
         null,
         null,
         "No Change"
        ],
        [
         2013,
         "Road-550-W Yellow- 40",
         221760,
         144940.0,
         76820.0,
         "Above Avg",
         68120,
         153640,
         "Increase"
        ],
        [
         2011,
         "Road-550-W Yellow- 42",
         1000,
         111480.0,
         -110480.0,
         "Below Avg",
         null,
         null,
         "No Change"
        ],
        [
         2012,
         "Road-550-W Yellow- 42",
         68000,
         111480.0,
         -43480.0,
         "Below Avg",
         1000,
         67000,
         "Increase"
        ],
        [
         2013,
         "Road-550-W Yellow- 42",
         265440,
         111480.0,
         153960.0,
         "Above Avg",
         68000,
         197440,
         "Increase"
        ],
        [
         2012,
         "Road-550-W Yellow- 44",
         78120,
         156100.0,
         -77980.0,
         "Below Avg",
         null,
         null,
         "No Change"
        ],
        [
         2013,
         "Road-550-W Yellow- 44",
         234080,
         156100.0,
         77980.0,
         "Above Avg",
         78120,
         155960,
         "Increase"
        ],
        [
         2012,
         "Road-550-W Yellow- 48",
         74240,
         141840.0,
         -67600.0,
         "Below Avg",
         null,
         null,
         "No Change"
        ],
        [
         2013,
         "Road-550-W Yellow- 48",
         209440,
         141840.0,
         67600.0,
         "Above Avg",
         74240,
         135200,
         "Increase"
        ],
        [
         2011,
         "Road-650 Black- 44",
         14679,
         23782.5,
         -9103.5,
         "Below Avg",
         null,
         null,
         "No Change"
        ],
        [
         2012,
         "Road-650 Black- 44",
         32886,
         23782.5,
         9103.5,
         "Above Avg",
         14679,
         18207,
         "Increase"
        ],
        [
         2011,
         "Road-650 Black- 48",
         11883,
         22776.0,
         -10893.0,
         "Below Avg",
         null,
         null,
         "No Change"
        ],
        [
         2012,
         "Road-650 Black- 48",
         33669,
         22776.0,
         10893.0,
         "Above Avg",
         11883,
         21786,
         "Increase"
        ],
        [
         2011,
         "Road-650 Black- 52",
         23067,
         33457.5,
         -10390.5,
         "Below Avg",
         null,
         null,
         "No Change"
        ],
        [
         2012,
         "Road-650 Black- 52",
         43848,
         33457.5,
         10390.5,
         "Above Avg",
         23067,
         20781,
         "Increase"
        ],
        [
         2011,
         "Road-650 Black- 58",
         12582,
         28998.0,
         -16416.0,
         "Below Avg",
         null,
         null,
         "No Change"
        ],
        [
         2012,
         "Road-650 Black- 58",
         45414,
         28998.0,
         16416.0,
         "Above Avg",
         12582,
         32832,
         "Increase"
        ],
        [
         2011,
         "Road-650 Black- 60",
         19572,
         28578.0,
         -9006.0,
         "Below Avg",
         null,
         null,
         "No Change"
        ],
        [
         2012,
         "Road-650 Black- 60",
         37584,
         28578.0,
         9006.0,
         "Above Avg",
         19572,
         18012,
         "Increase"
        ],
        [
         2010,
         "Road-650 Black- 62",
         699,
         16349.0,
         -15650.0,
         "Below Avg",
         null,
         null,
         "No Change"
        ],
        [
         2011,
         "Road-650 Black- 62",
         14679,
         16349.0,
         -1670.0,
         "Below Avg",
         699,
         13980,
         "Increase"
        ],
        [
         2012,
         "Road-650 Black- 62",
         33669,
         16349.0,
         17320.0,
         "Above Avg",
         14679,
         18990,
         "Increase"
        ],
        [
         2011,
         "Road-650 Red- 44",
         15378,
         27264.0,
         -11886.0,
         "Below Avg",
         null,
         null,
         "No Change"
        ],
        [
         2012,
         "Road-650 Red- 44",
         39150,
         27264.0,
         11886.0,
         "Above Avg",
         15378,
         23772,
         "Increase"
        ],
        [
         2011,
         "Road-650 Red- 48",
         18957,
         33360.0,
         -14403.0,
         "Below Avg",
         null,
         null,
         "No Change"
        ],
        [
         2012,
         "Road-650 Red- 48",
         47763,
         33360.0,
         14403.0,
         "Above Avg",
         18957,
         28806,
         "Increase"
        ],
        [
         2010,
         "Road-650 Red- 52",
         699,
         15361.0,
         -14662.0,
         "Below Avg",
         null,
         null,
         "No Change"
        ],
        [
         2011,
         "Road-650 Red- 52",
         14064,
         15361.0,
         -1297.0,
         "Below Avg",
         699,
         13365,
         "Increase"
        ],
        [
         2012,
         "Road-650 Red- 52",
         31320,
         15361.0,
         15959.0,
         "Above Avg",
         14064,
         17256,
         "Increase"
        ],
        [
         2011,
         "Road-650 Red- 58",
         13281,
         28173.0,
         -14892.0,
         "Below Avg",
         null,
         null,
         "No Change"
        ],
        [
         2012,
         "Road-650 Red- 58",
         43065,
         28173.0,
         14892.0,
         "Above Avg",
         13281,
         29784,
         "Increase"
        ],
        [
         2011,
         "Road-650 Red- 60",
         11883,
         20035.5,
         -8152.5,
         "Below Avg",
         null,
         null,
         "No Change"
        ],
        [
         2012,
         "Road-650 Red- 60",
         28188,
         20035.5,
         8152.5,
         "Above Avg",
         11883,
         16305,
         "Increase"
        ],
        [
         2011,
         "Road-650 Red- 62",
         11967,
         28690.5,
         -16723.5,
         "Below Avg",
         null,
         null,
         "No Change"
        ],
        [
         2012,
         "Road-650 Red- 62",
         45414,
         28690.5,
         16723.5,
         "Above Avg",
         11967,
         33447,
         "Increase"
        ],
        [
         2012,
         "Road-750 Black- 44",
         1620,
         97200.0,
         -95580.0,
         "Below Avg",
         null,
         null,
         "No Change"
        ],
        [
         2013,
         "Road-750 Black- 44",
         192780,
         97200.0,
         95580.0,
         "Above Avg",
         1620,
         191160,
         "Increase"
        ],
        [
         2012,
         "Road-750 Black- 48",
         1080,
         98010.0,
         -96930.0,
         "Below Avg",
         null,
         null,
         "No Change"
        ],
        [
         2013,
         "Road-750 Black- 48",
         194940,
         98010.0,
         96930.0,
         "Above Avg",
         1080,
         193860,
         "Increase"
        ],
        [
         2012,
         "Road-750 Black- 52",
         2160,
         104220.0,
         -102060.0,
         "Below Avg",
         null,
         null,
         "No Change"
        ],
        [
         2013,
         "Road-750 Black- 52",
         206280,
         104220.0,
         102060.0,
         "Above Avg",
         2160,
         204120,
         "Increase"
        ],
        [
         2012,
         "Road-750 Black- 58",
         1080,
         90180.0,
         -89100.0,
         "Below Avg",
         null,
         null,
         "No Change"
        ],
        [
         2013,
         "Road-750 Black- 58",
         179280,
         90180.0,
         89100.0,
         "Above Avg",
         1080,
         178200,
         "Increase"
        ],
        [
         2012,
         "Short-Sleeve Classic Jersey- L",
         108,
         6732.0,
         -6624.0,
         "Below Avg",
         null,
         null,
         "No Change"
        ],
        [
         2013,
         "Short-Sleeve Classic Jersey- L",
         19764,
         6732.0,
         13032.0,
         "Above Avg",
         108,
         19656,
         "Increase"
        ],
        [
         2014,
         "Short-Sleeve Classic Jersey- L",
         324,
         6732.0,
         -6408.0,
         "Below Avg",
         19764,
         -19440,
         "Decrease"
        ],
        [
         2012,
         "Short-Sleeve Classic Jersey- M",
         54,
         7326.0,
         -7272.0,
         "Below Avg",
         null,
         null,
         "No Change"
        ],
        [
         2013,
         "Short-Sleeve Classic Jersey- M",
         20790,
         7326.0,
         13464.0,
         "Above Avg",
         54,
         20736,
         "Increase"
        ],
        [
         2014,
         "Short-Sleeve Classic Jersey- M",
         1134,
         7326.0,
         -6192.0,
         "Below Avg",
         20790,
         -19656,
         "Decrease"
        ],
        [
         2012,
         "Short-Sleeve Classic Jersey- S",
         54,
         7308.0,
         -7254.0,
         "Below Avg",
         null,
         null,
         "No Change"
        ],
        [
         2013,
         "Short-Sleeve Classic Jersey- S",
         21384,
         7308.0,
         14076.0,
         "Above Avg",
         54,
         21330,
         "Increase"
        ],
        [
         2014,
         "Short-Sleeve Classic Jersey- S",
         486,
         7308.0,
         -6822.0,
         "Below Avg",
         21384,
         -20898,
         "Decrease"
        ],
        [
         2013,
         "Short-Sleeve Classic Jersey- XL",
         21168,
         11043.0,
         10125.0,
         "Above Avg",
         null,
         null,
         "No Change"
        ],
        [
         2014,
         "Short-Sleeve Classic Jersey- XL",
         918,
         11043.0,
         -10125.0,
         "Below Avg",
         21168,
         -20250,
         "Decrease"
        ],
        [
         2012,
         "Sport-100 Helmet- Black",
         210,
         24325.0,
         -24115.0,
         "Below Avg",
         null,
         null,
         "No Change"
        ],
        [
         2013,
         "Sport-100 Helmet- Black",
         69895,
         24325.0,
         45570.0,
         "Above Avg",
         210,
         69685,
         "Increase"
        ],
        [
         2014,
         "Sport-100 Helmet- Black",
         2870,
         24325.0,
         -21455.0,
         "Below Avg",
         69895,
         -67025,
         "Decrease"
        ],
        [
         2012,
         "Sport-100 Helmet- Blue",
         350,
         24791.666666666668,
         -24441.666666666668,
         "Below Avg",
         null,
         null,
         "No Change"
        ],
        [
         2013,
         "Sport-100 Helmet- Blue",
         71050,
         24791.666666666668,
         46258.33333333333,
         "Above Avg",
         350,
         70700,
         "Increase"
        ],
        [
         2014,
         "Sport-100 Helmet- Blue",
         2975,
         24791.666666666668,
         -21816.666666666668,
         "Below Avg",
         71050,
         -68075,
         "Decrease"
        ],
        [
         2012,
         "Sport-100 Helmet- Red",
         350,
         26016.666666666668,
         -25666.666666666668,
         "Below Avg",
         null,
         null,
         "No Change"
        ],
        [
         2013,
         "Sport-100 Helmet- Red",
         75145,
         26016.666666666668,
         49128.33333333333,
         "Above Avg",
         350,
         74795,
         "Increase"
        ],
        [
         2014,
         "Sport-100 Helmet- Red",
         2555,
         26016.666666666668,
         -23461.666666666668,
         "Below Avg",
         75145,
         -72590,
         "Decrease"
        ],
        [
         2012,
         "Touring Tire",
         58,
         9038.333333333334,
         -8980.333333333334,
         "Below Avg",
         null,
         null,
         "No Change"
        ],
        [
         2013,
         "Touring Tire",
         25607,
         9038.333333333334,
         16568.666666666664,
         "Above Avg",
         58,
         25549,
         "Increase"
        ],
        [
         2014,
         "Touring Tire",
         1450,
         9038.333333333334,
         -7588.333333333334,
         "Below Avg",
         25607,
         -24157,
         "Decrease"
        ],
        [
         2012,
         "Touring Tire Tube",
         10,
         2478.3333333333335,
         -2468.3333333333335,
         "Below Avg",
         null,
         null,
         "No Change"
        ],
        [
         2013,
         "Touring Tire Tube",
         7010,
         2478.3333333333335,
         4531.666666666666,
         "Above Avg",
         10,
         7000,
         "Increase"
        ],
        [
         2014,
         "Touring Tire Tube",
         415,
         2478.3333333333335,
         -2063.3333333333335,
         "Below Avg",
         7010,
         -6595,
         "Decrease"
        ],
        [
         2012,
         "Touring-1000 Blue- 46",
         4768,
         210984.0,
         -206216.0,
         "Below Avg",
         null,
         null,
         "No Change"
        ],
        [
         2013,
         "Touring-1000 Blue- 46",
         417200,
         210984.0,
         206216.0,
         "Above Avg",
         4768,
         412432,
         "Increase"
        ],
        [
         2012,
         "Touring-1000 Blue- 50",
         2384,
         178800.0,
         -176416.0,
         "Below Avg",
         null,
         null,
         "No Change"
        ],
        [
         2013,
         "Touring-1000 Blue- 50",
         355216,
         178800.0,
         176416.0,
         "Above Avg",
         2384,
         352832,
         "Increase"
        ],
        [
         2013,
         "Touring-1000 Blue- 54",
         381440,
         381440.0,
         0.0,
         "Avg",
         null,
         null,
         "No Change"
        ],
        [
         2012,
         "Touring-1000 Blue- 60",
         2384,
         175224.0,
         -172840.0,
         "Below Avg",
         null,
         null,
         "No Change"
        ],
        [
         2013,
         "Touring-1000 Blue- 60",
         348064,
         175224.0,
         172840.0,
         "Above Avg",
         2384,
         345680,
         "Increase"
        ],
        [
         2013,
         "Touring-1000 Yellow- 46",
         410048,
         410048.0,
         0.0,
         "Avg",
         null,
         null,
         "No Change"
        ],
        [
         2012,
         "Touring-1000 Yellow- 50",
         4768,
         179992.0,
         -175224.0,
         "Below Avg",
         null,
         null,
         "No Change"
        ],
        [
         2013,
         "Touring-1000 Yellow- 50",
         355216,
         179992.0,
         175224.0,
         "Above Avg",
         4768,
         350448,
         "Increase"
        ],
        [
         2013,
         "Touring-1000 Yellow- 54",
         376672,
         376672.0,
         0.0,
         "Avg",
         null,
         null,
         "No Change"
        ],
        [
         2013,
         "Touring-1000 Yellow- 60",
         333760,
         333760.0,
         0.0,
         "Avg",
         null,
         null,
         "No Change"
        ],
        [
         2012,
         "Touring-2000 Blue- 46",
         2430,
         58927.5,
         -56497.5,
         "Below Avg",
         null,
         null,
         "No Change"
        ],
        [
         2013,
         "Touring-2000 Blue- 46",
         115425,
         58927.5,
         56497.5,
         "Above Avg",
         2430,
         112995,
         "Increase"
        ],
        [
         2012,
         "Touring-2000 Blue- 50",
         1215,
         64395.0,
         -63180.0,
         "Below Avg",
         null,
         null,
         "No Change"
        ],
        [
         2013,
         "Touring-2000 Blue- 50",
         127575,
         64395.0,
         63180.0,
         "Above Avg",
         1215,
         126360,
         "Increase"
        ],
        [
         2013,
         "Touring-2000 Blue- 54",
         106920,
         106920.0,
         0.0,
         "Avg",
         null,
         null,
         "No Change"
        ],
        [
         2012,
         "Touring-2000 Blue- 60",
         1215,
         49207.5,
         -47992.5,
         "Below Avg",
         null,
         null,
         "No Change"
        ],
        [
         2013,
         "Touring-2000 Blue- 60",
         97200,
         49207.5,
         47992.5,
         "Above Avg",
         1215,
         95985,
         "Increase"
        ],
        [
         2013,
         "Touring-3000 Blue- 44",
         39326,
         39326.0,
         0.0,
         "Avg",
         null,
         null,
         "No Change"
        ],
        [
         2013,
         "Touring-3000 Blue- 50",
         35616,
         35616.0,
         0.0,
         "Avg",
         null,
         null,
         "No Change"
        ],
        [
         2012,
         "Touring-3000 Blue- 54",
         742,
         20405.0,
         -19663.0,
         "Below Avg",
         null,
         null,
         "No Change"
        ],
        [
         2013,
         "Touring-3000 Blue- 54",
         40068,
         20405.0,
         19663.0,
         "Above Avg",
         742,
         39326,
         "Increase"
        ],
        [
         2013,
         "Touring-3000 Blue- 58",
         42294,
         42294.0,
         0.0,
         "Avg",
         null,
         null,
         "No Change"
        ],
        [
         2013,
         "Touring-3000 Blue- 62",
         47488,
         47488.0,
         0.0,
         "Avg",
         null,
         null,
         "No Change"
        ],
        [
         2013,
         "Touring-3000 Yellow- 44",
         43778,
         43778.0,
         0.0,
         "Avg",
         null,
         null,
         "No Change"
        ],
        [
         2013,
         "Touring-3000 Yellow- 50",
         43778,
         43778.0,
         0.0,
         "Avg",
         null,
         null,
         "No Change"
        ],
        [
         2013,
         "Touring-3000 Yellow- 54",
         35616,
         35616.0,
         0.0,
         "Avg",
         null,
         null,
         "No Change"
        ],
        [
         2012,
         "Touring-3000 Yellow- 58",
         1484,
         17437.0,
         -15953.0,
         "Below Avg",
         null,
         null,
         "No Change"
        ],
        [
         2013,
         "Touring-3000 Yellow- 58",
         33390,
         17437.0,
         15953.0,
         "Above Avg",
         1484,
         31906,
         "Increase"
        ],
        [
         2013,
         "Touring-3000 Yellow- 62",
         37100,
         37100.0,
         0.0,
         "Avg",
         null,
         null,
         "No Change"
        ],
        [
         2012,
         "Water Bottle - 30 oz.",
         90,
         7081.666666666667,
         -6991.666666666667,
         "Below Avg",
         null,
         null,
         "No Change"
        ],
        [
         2013,
         "Water Bottle - 30 oz.",
         20425,
         7081.666666666667,
         13343.333333333332,
         "Above Avg",
         90,
         20335,
         "Increase"
        ],
        [
         2014,
         "Water Bottle - 30 oz.",
         730,
         7081.666666666667,
         -6351.666666666667,
         "Below Avg",
         20425,
         -19695,
         "Decrease"
        ],
        [
         2013,
         "Women's Mountain Shorts- L",
         23800,
         12705.0,
         11095.0,
         "Above Avg",
         null,
         null,
         "No Change"
        ],
        [
         2014,
         "Women's Mountain Shorts- L",
         1610,
         12705.0,
         -11095.0,
         "Below Avg",
         23800,
         -22190,
         "Decrease"
        ],
        [
         2013,
         "Women's Mountain Shorts- M",
         23380,
         12320.0,
         11060.0,
         "Above Avg",
         null,
         null,
         "No Change"
        ],
        [
         2014,
         "Women's Mountain Shorts- M",
         1260,
         12320.0,
         -11060.0,
         "Below Avg",
         23380,
         -22120,
         "Decrease"
        ],
        [
         2013,
         "Women's Mountain Shorts- S",
         20230,
         10640.0,
         9590.0,
         "Above Avg",
         null,
         null,
         "No Change"
        ],
        [
         2014,
         "Women's Mountain Shorts- S",
         1050,
         10640.0,
         -9590.0,
         "Below Avg",
         20230,
         -19180,
         "Decrease"
        ]
       ],
       "datasetInfos": [],
       "dbfsResultPath": null,
       "isJsonSchema": true,
       "metadata": {},
       "overflow": false,
       "plotOptions": {
        "customPlotOptions": {},
        "displayType": "table",
        "pivotAggregation": null,
        "pivotColumns": null,
        "xColumns": null,
        "yColumns": null
       },
       "removedWidgets": [],
       "schema": [
        {
         "metadata": "{}",
         "name": "order_year",
         "type": "\"integer\""
        },
        {
         "metadata": "{}",
         "name": "product_name",
         "type": "\"string\""
        },
        {
         "metadata": "{}",
         "name": "current_sales",
         "type": "\"long\""
        },
        {
         "metadata": "{}",
         "name": "avg_sales",
         "type": "\"double\""
        },
        {
         "metadata": "{}",
         "name": "difference_avg",
         "type": "\"double\""
        },
        {
         "metadata": "{}",
         "name": "avg_change",
         "type": "\"string\""
        },
        {
         "metadata": "{}",
         "name": "previous_year_sales",
         "type": "\"long\""
        },
        {
         "metadata": "{}",
         "name": "difference_previous_year",
         "type": "\"long\""
        },
        {
         "metadata": "{}",
         "name": "previous_year_change",
         "type": "\"string\""
        }
       ],
       "type": "table"
      }
     },
     "output_type": "display_data"
    }
   ],
   "source": [
    "## Analyze the yearly performance of products by comparing their sales to both the average sales performance of the -- product and the previous year's sales\n",
    "\n",
    "df = spark.sql(\"\"\"WITH yearly_product_sales AS (\n",
    "    SELECT\n",
    "        EXTRACT(YEAR FROM f.order_date) AS order_year,\n",
    "        p.product_name,\n",
    "        SUM(f.sales_amount) AS current_sales\n",
    "    FROM dwh_project.gold.fact_sales f\n",
    "    LEFT JOIN dwh_project.gold.dim_products p\n",
    "        ON f.product_key = p.product_key\n",
    "    WHERE f.order_date IS NOT NULL\n",
    "    GROUP BY \n",
    "        EXTRACT(YEAR FROM f.order_date),\n",
    "        p.product_name\n",
    ")\n",
    "SELECT\n",
    "    order_year,\n",
    "    product_name,\n",
    "    current_sales,\n",
    "    AVG(current_sales) OVER (PARTITION BY product_name) AS avg_sales,\n",
    "    current_sales - AVG(current_sales) OVER (PARTITION BY product_name) AS difference_avg,\n",
    "    CASE \n",
    "        WHEN current_sales - AVG(current_sales) OVER (PARTITION BY product_name) > 0 THEN 'Above Avg'\n",
    "        WHEN current_sales - AVG(current_sales) OVER (PARTITION BY product_name) < 0 THEN 'Below Avg'\n",
    "        ELSE 'Avg'\n",
    "    END AS avg_change,\n",
    "    -- Year-over-Year Analysis\n",
    "    LAG(current_sales) OVER (PARTITION BY product_name ORDER BY order_year) AS previous_year_sales,\n",
    "    current_sales - LAG(current_sales) OVER (PARTITION BY product_name ORDER BY order_year) AS difference_previous_year,\n",
    "    CASE \n",
    "        WHEN current_sales - LAG(current_sales) OVER (PARTITION BY product_name ORDER BY order_year) > 0 THEN 'Increase'\n",
    "        WHEN current_sales - LAG(current_sales) OVER (PARTITION BY product_name ORDER BY order_year) < 0 THEN 'Decrease'\n",
    "        ELSE 'No Change'\n",
    "    END AS previous_year_change\n",
    "FROM yearly_product_sales\n",
    "ORDER BY product_name, order_year\"\"\")\n",
    "display(df)"
   ]
  },
  {
   "cell_type": "code",
   "execution_count": 0,
   "metadata": {
    "application/vnd.databricks.v1+cell": {
     "cellMetadata": {
      "byteLimit": 2048000,
      "implicitDf": true,
      "rowLimit": 10000
     },
     "inputWidgets": {},
     "nuid": "9591637b-2ad3-4fc7-b89d-e8580a850e2b",
     "showTitle": false,
     "tableResultSettingsMap": {},
     "title": ""
    }
   },
   "outputs": [
    {
     "output_type": "display_data",
     "data": {
      "text/html": [
       "<style scoped>\n",
       "  .table-result-container {\n",
       "    max-height: 300px;\n",
       "    overflow: auto;\n",
       "  }\n",
       "  table, th, td {\n",
       "    border: 1px solid black;\n",
       "    border-collapse: collapse;\n",
       "  }\n",
       "  th, td {\n",
       "    padding: 5px;\n",
       "  }\n",
       "  th {\n",
       "    text-align: left;\n",
       "  }\n",
       "</style><div class='table-result-container'><table class='table-result'><thead style='background-color: white'><tr><th>cost_range</th><th>total_products</th></tr></thead><tbody><tr><td>Below 100</td><td>110</td></tr><tr><td>100-500</td><td>101</td></tr><tr><td>500-1000</td><td>45</td></tr><tr><td>Above 1000</td><td>39</td></tr></tbody></table></div>"
      ]
     },
     "metadata": {
      "application/vnd.databricks.v1+output": {
       "addedWidgets": {},
       "aggData": [],
       "aggError": "",
       "aggOverflow": false,
       "aggSchema": [],
       "aggSeriesLimitReached": false,
       "aggType": "",
       "arguments": {},
       "columnCustomDisplayInfos": {},
       "data": [
        [
         "Below 100",
         110
        ],
        [
         "100-500",
         101
        ],
        [
         "500-1000",
         45
        ],
        [
         "Above 1000",
         39
        ]
       ],
       "datasetInfos": [],
       "dbfsResultPath": null,
       "isJsonSchema": true,
       "metadata": {},
       "overflow": false,
       "plotOptions": {
        "customPlotOptions": {},
        "displayType": "table",
        "pivotAggregation": null,
        "pivotColumns": null,
        "xColumns": null,
        "yColumns": null
       },
       "removedWidgets": [],
       "schema": [
        {
         "metadata": "{}",
         "name": "cost_range",
         "type": "\"string\""
        },
        {
         "metadata": "{}",
         "name": "total_products",
         "type": "\"long\""
        }
       ],
       "type": "table"
      }
     },
     "output_type": "display_data"
    }
   ],
   "source": [
    "## Segment products into cost ranges and count how many products fall into each segment\n",
    "\n",
    "df = spark.sql(\"\"\"WITH product_segments AS (\n",
    "    SELECT\n",
    "        product_key,\n",
    "        product_name,\n",
    "        cost,\n",
    "        CASE \n",
    "            WHEN cost < 100 THEN 'Below 100'\n",
    "            WHEN cost BETWEEN 100 AND 500 THEN '100-500'\n",
    "            WHEN cost BETWEEN 500 AND 1000 THEN '500-1000'\n",
    "            ELSE 'Above 1000'\n",
    "        END AS cost_range\n",
    "    FROM dwh_project.gold.dim_products\n",
    ")\n",
    "SELECT \n",
    "    cost_range,\n",
    "    COUNT(product_key) AS total_products\n",
    "FROM product_segments\n",
    "GROUP BY cost_range\n",
    "ORDER BY total_products DESC\"\"\")\n",
    "display(df)"
   ]
  },
  {
   "cell_type": "code",
   "execution_count": 0,
   "metadata": {
    "application/vnd.databricks.v1+cell": {
     "cellMetadata": {
      "byteLimit": 2048000,
      "implicitDf": true,
      "rowLimit": 10000
     },
     "inputWidgets": {},
     "nuid": "369429ad-e8fb-494b-8973-0144b09bbbe6",
     "showTitle": false,
     "tableResultSettingsMap": {},
     "title": ""
    }
   },
   "outputs": [
    {
     "output_type": "display_data",
     "data": {
      "text/html": [
       "<style scoped>\n",
       "  .table-result-container {\n",
       "    max-height: 300px;\n",
       "    overflow: auto;\n",
       "  }\n",
       "  table, th, td {\n",
       "    border: 1px solid black;\n",
       "    border-collapse: collapse;\n",
       "  }\n",
       "  th, td {\n",
       "    padding: 5px;\n",
       "  }\n",
       "  th {\n",
       "    text-align: left;\n",
       "  }\n",
       "</style><div class='table-result-container'><table class='table-result'><thead style='background-color: white'><tr><th>customer_segment</th><th>total_customers</th></tr></thead><tbody><tr><td>New</td><td>14828</td></tr><tr><td>Regular</td><td>2037</td></tr><tr><td>VIP</td><td>1619</td></tr></tbody></table></div>"
      ]
     },
     "metadata": {
      "application/vnd.databricks.v1+output": {
       "addedWidgets": {},
       "aggData": [],
       "aggError": "",
       "aggOverflow": false,
       "aggSchema": [],
       "aggSeriesLimitReached": false,
       "aggType": "",
       "arguments": {},
       "columnCustomDisplayInfos": {},
       "data": [
        [
         "New",
         14828
        ],
        [
         "Regular",
         2037
        ],
        [
         "VIP",
         1619
        ]
       ],
       "datasetInfos": [],
       "dbfsResultPath": null,
       "isJsonSchema": true,
       "metadata": {},
       "overflow": false,
       "plotOptions": {
        "customPlotOptions": {},
        "displayType": "table",
        "pivotAggregation": null,
        "pivotColumns": null,
        "xColumns": null,
        "yColumns": null
       },
       "removedWidgets": [],
       "schema": [
        {
         "metadata": "{}",
         "name": "customer_segment",
         "type": "\"string\""
        },
        {
         "metadata": "{}",
         "name": "total_customers",
         "type": "\"long\""
        }
       ],
       "type": "table"
      }
     },
     "output_type": "display_data"
    }
   ],
   "source": [
    "\n",
    "## Group customers into three segments based on their spending behavior: VIP: Customers with at least 12 months of history and spending more than €5,000. Regular: Customers with at least 12 months of history but spending €5,000 or less New: Customers with a lifespan less than 12 months. And find the total number of customers by each group\n",
    "\n",
    "\n",
    "df = spark.sql(\"\"\"WITH customer_spending AS (\n",
    "    SELECT\n",
    "        c.customer_key,\n",
    "        SUM(f.sales_amount) AS total_spending,\n",
    "        MIN(f.order_date) AS first_order,\n",
    "        MAX(f.order_date) AS last_order,\n",
    "        CAST(\n",
    "            MONTHS_BETWEEN(MAX(f.order_date), MIN(f.order_date))\n",
    "            AS INT\n",
    "        ) AS lifespan\n",
    "    FROM dwh_project.gold.fact_sales f\n",
    "    LEFT JOIN dwh_project.gold.dim_customers c\n",
    "        ON f.customer_key = c.customer_key\n",
    "    GROUP BY c.customer_key\n",
    ")\n",
    "SELECT \n",
    "    customer_segment,\n",
    "    COUNT(customer_key) AS total_customers\n",
    "FROM (\n",
    "    SELECT \n",
    "        customer_key,\n",
    "        CASE \n",
    "            WHEN lifespan >= 12 AND total_spending > 5000 THEN 'VIP'\n",
    "            WHEN lifespan >= 12 AND total_spending <= 5000 THEN 'Regular'\n",
    "            ELSE 'New'\n",
    "        END AS customer_segment\n",
    "    FROM customer_spending\n",
    ") AS segmented_customers\n",
    "GROUP BY customer_segment\n",
    "ORDER BY total_customers DESC\"\"\")\n",
    "display(df)"
   ]
  },
  {
   "cell_type": "code",
   "execution_count": 0,
   "metadata": {
    "application/vnd.databricks.v1+cell": {
     "cellMetadata": {
      "byteLimit": 2048000,
      "implicitDf": true,
      "rowLimit": 10000
     },
     "inputWidgets": {},
     "nuid": "f05e6675-1bbe-4f96-9bfa-d8e0af1e34fb",
     "showTitle": false,
     "tableResultSettingsMap": {},
     "title": ""
    }
   },
   "outputs": [
    {
     "output_type": "display_data",
     "data": {
      "text/html": [
       "<style scoped>\n",
       "  .table-result-container {\n",
       "    max-height: 300px;\n",
       "    overflow: auto;\n",
       "  }\n",
       "  table, th, td {\n",
       "    border: 1px solid black;\n",
       "    border-collapse: collapse;\n",
       "  }\n",
       "  th, td {\n",
       "    padding: 5px;\n",
       "  }\n",
       "  th {\n",
       "    text-align: left;\n",
       "  }\n",
       "</style><div class='table-result-container'><table class='table-result'><thead style='background-color: white'><tr><th>category</th><th>total_sales</th><th>overall_sales</th><th>percentage_of_total</th></tr></thead><tbody><tr><td>Bikes</td><td>28316272</td><td>29356250</td><td>96.46</td></tr><tr><td>Accessories</td><td>700262</td><td>29356250</td><td>2.39</td></tr><tr><td>Clothing</td><td>339716</td><td>29356250</td><td>1.16</td></tr></tbody></table></div>"
      ]
     },
     "metadata": {
      "application/vnd.databricks.v1+output": {
       "addedWidgets": {},
       "aggData": [],
       "aggError": "",
       "aggOverflow": false,
       "aggSchema": [],
       "aggSeriesLimitReached": false,
       "aggType": "",
       "arguments": {},
       "columnCustomDisplayInfos": {},
       "data": [
        [
         "Bikes",
         28316272,
         29356250,
         "96.46"
        ],
        [
         "Accessories",
         700262,
         29356250,
         "2.39"
        ],
        [
         "Clothing",
         339716,
         29356250,
         "1.16"
        ]
       ],
       "datasetInfos": [],
       "dbfsResultPath": null,
       "isJsonSchema": true,
       "metadata": {},
       "overflow": false,
       "plotOptions": {
        "customPlotOptions": {},
        "displayType": "table",
        "pivotAggregation": null,
        "pivotColumns": null,
        "xColumns": null,
        "yColumns": null
       },
       "removedWidgets": [],
       "schema": [
        {
         "metadata": "{}",
         "name": "category",
         "type": "\"string\""
        },
        {
         "metadata": "{}",
         "name": "total_sales",
         "type": "\"long\""
        },
        {
         "metadata": "{}",
         "name": "overall_sales",
         "type": "\"long\""
        },
        {
         "metadata": "{}",
         "name": "percentage_of_total",
         "type": "\"decimal(17,2)\""
        }
       ],
       "type": "table"
      }
     },
     "output_type": "display_data"
    }
   ],
   "source": [
    "## Categories contribute the most to overall sales\n",
    "\n",
    "df = spark.sql(\"\"\"WITH category_sales AS (\n",
    "    SELECT\n",
    "        p.category,\n",
    "        SUM(f.sales_amount) AS total_sales\n",
    "    FROM dwh_project.gold.fact_sales f\n",
    "    LEFT JOIN dwh_project.gold.dim_products p\n",
    "        ON p.product_key = f.product_key\n",
    "    GROUP BY p.category\n",
    ")\n",
    "SELECT\n",
    "    category,\n",
    "    total_sales,\n",
    "    SUM(total_sales) OVER () AS overall_sales,\n",
    "    ROUND((total_sales::NUMERIC / SUM(total_sales) OVER ()) * 100, 2) AS percentage_of_total\n",
    "FROM category_sales\n",
    "ORDER BY total_sales DESC\"\"\")\n",
    "display(df)"
   ]
  }
 ],
 "metadata": {
  "application/vnd.databricks.v1+notebook": {
   "computePreferences": {
    "hardware": {
     "accelerator": null,
     "gpuPoolId": null,
     "memory": null
    }
   },
   "dashboards": [],
   "environmentMetadata": {
    "base_environment": "",
    "environment_version": "3"
   },
   "inputWidgetPreferences": null,
   "language": "python",
   "notebookMetadata": {
    "mostRecentlyExecutedCommandWithImplicitDF": {
     "commandId": -1,
     "dataframes": [
      "_sqldf"
     ]
    },
    "pythonIndentUnit": 4
   },
   "notebookName": "general_overview_advance_analytics_01.sql",
   "widgets": {}
  },
  "language_info": {
   "name": "python"
  }
 },
 "nbformat": 4,
 "nbformat_minor": 0
}